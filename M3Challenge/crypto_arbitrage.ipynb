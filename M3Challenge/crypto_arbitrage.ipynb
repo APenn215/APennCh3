{
 "cells": [
  {
   "cell_type": "markdown",
   "metadata": {},
   "source": [
    "## Crypto Arbitrage\n",
    "\n",
    "In this Challenge, you'll take on the role of an analyst at a high-tech investment firm. The vice president (VP) of your department is considering arbitrage opportunities in Bitcoin and other cryptocurrencies. As Bitcoin trades on markets across the globe, can you capitalize on simultaneous price dislocations in those markets by using the powers of Pandas?\n",
    "\n",
    "For this assignment, you’ll sort through historical trade data for Bitcoin on two exchanges: Bitstamp and Coinbase. Your task is to apply the three phases of financial analysis to determine if any arbitrage opportunities exist for Bitcoin.\n",
    "\n",
    "This aspect of the Challenge will consist of 3 phases.\n",
    "\n",
    "1. Collect the data.\n",
    "\n",
    "2. Prepare the data.\n",
    "\n",
    "3. Analyze the data. \n",
    "\n"
   ]
  },
  {
   "cell_type": "markdown",
   "metadata": {},
   "source": [
    "###  Import the required libraries and dependencies."
   ]
  },
  {
   "cell_type": "code",
   "execution_count": 1,
   "metadata": {},
   "outputs": [],
   "source": [
    "import pandas as pd\n",
    "from pathlib import Path\n",
    "\n",
    "%matplotlib inline\n",
    "\n"
   ]
  },
  {
   "cell_type": "markdown",
   "metadata": {},
   "source": [
    "## Collect the Data\n",
    "\n",
    "To collect the data that you’ll need, complete the following steps:\n",
    "\n",
    "Instructions. \n",
    "\n",
    "1. Using the Pandas `read_csv` function and the `Path` module, import the data from `bitstamp.csv` file, and create a DataFrame called `bitstamp`. Set the DatetimeIndex as the Timestamp column, and be sure to parse and format the dates.\n",
    "\n",
    "2. Use the `head` (and/or the `tail`) function to confirm that Pandas properly imported the data.\n",
    "\n",
    "3. Repeat Steps 1 and 2 for `coinbase.csv` file."
   ]
  },
  {
   "cell_type": "markdown",
   "metadata": {
    "tags": []
   },
   "source": [
    "### Step 1: Using the Pandas `read_csv` function and the `Path` module, import the data from `bitstamp.csv` file, and create a DataFrame called `bitstamp`. Set the DatetimeIndex as the Timestamp column, and be sure to parse and format the dates."
   ]
  },
  {
   "cell_type": "code",
   "execution_count": 1,
   "metadata": {},
   "outputs": [],
   "source": [
    "# Read in the CSV file called \"bitstamp.csv\" using the Path module. \n",
    "# The CSV file is located in the Resources folder.\n",
    "# Set the index to the column \"Date\"\n",
    "# Set the parse_dates and infer_datetime_format parameters\n",
    "import pandas as pd\n",
    "from pathlib import Path\n",
    "csvpath = Path(\"charts/bitstamp.csv\")\n",
    "bitstamp = bitstamp_df = bitstamp_DataFrame = pd.read_csv(\n",
    "    Path('charts/bitstamp.csv'), \n",
    "    index_col =\"Timestamp\", \n",
    "    parse_dates = True, \n",
    "    infer_datetime_format = True)\n"
   ]
  },
  {
   "cell_type": "markdown",
   "metadata": {},
   "source": [
    "### Step 2: Use the `head` (and/or the `tail`) function to confirm that Pandas properly imported the data."
   ]
  },
  {
   "cell_type": "code",
   "execution_count": 2,
   "metadata": {},
   "outputs": [
    {
     "data": {
      "text/html": [
       "<div>\n",
       "<style scoped>\n",
       "    .dataframe tbody tr th:only-of-type {\n",
       "        vertical-align: middle;\n",
       "    }\n",
       "\n",
       "    .dataframe tbody tr th {\n",
       "        vertical-align: top;\n",
       "    }\n",
       "\n",
       "    .dataframe thead th {\n",
       "        text-align: right;\n",
       "    }\n",
       "</style>\n",
       "<table border=\"1\" class=\"dataframe\">\n",
       "  <thead>\n",
       "    <tr style=\"text-align: right;\">\n",
       "      <th></th>\n",
       "      <th>Open</th>\n",
       "      <th>High</th>\n",
       "      <th>Low</th>\n",
       "      <th>Close</th>\n",
       "      <th>BTC Volume</th>\n",
       "      <th>USD Volume</th>\n",
       "      <th>Weighted Price</th>\n",
       "    </tr>\n",
       "    <tr>\n",
       "      <th>Timestamp</th>\n",
       "      <th></th>\n",
       "      <th></th>\n",
       "      <th></th>\n",
       "      <th></th>\n",
       "      <th></th>\n",
       "      <th></th>\n",
       "      <th></th>\n",
       "    </tr>\n",
       "  </thead>\n",
       "  <tbody>\n",
       "    <tr>\n",
       "      <th>2018-01-01 00:00:00</th>\n",
       "      <td>13681.04</td>\n",
       "      <td>13681.04</td>\n",
       "      <td>13637.93</td>\n",
       "      <td>$13646.48</td>\n",
       "      <td>3.334553</td>\n",
       "      <td>45482.128785</td>\n",
       "      <td>13639.647479</td>\n",
       "    </tr>\n",
       "    <tr>\n",
       "      <th>2018-01-01 00:01:00</th>\n",
       "      <td>13646.48</td>\n",
       "      <td>13658.75</td>\n",
       "      <td>13610.18</td>\n",
       "      <td>$13658.75</td>\n",
       "      <td>2.663188</td>\n",
       "      <td>36361.390888</td>\n",
       "      <td>13653.332816</td>\n",
       "    </tr>\n",
       "    <tr>\n",
       "      <th>2018-01-01 00:02:00</th>\n",
       "      <td>13616.93</td>\n",
       "      <td>13616.93</td>\n",
       "      <td>13610.06</td>\n",
       "      <td>$13610.22</td>\n",
       "      <td>0.084653</td>\n",
       "      <td>1152.144036</td>\n",
       "      <td>13610.136247</td>\n",
       "    </tr>\n",
       "    <tr>\n",
       "      <th>2018-01-01 00:03:00</th>\n",
       "      <td>13610.27</td>\n",
       "      <td>13639.09</td>\n",
       "      <td>13610.27</td>\n",
       "      <td>$13639.09</td>\n",
       "      <td>7.182986</td>\n",
       "      <td>97856.416478</td>\n",
       "      <td>13623.361128</td>\n",
       "    </tr>\n",
       "    <tr>\n",
       "      <th>2018-01-01 00:04:00</th>\n",
       "      <td>13635.35</td>\n",
       "      <td>13636.35</td>\n",
       "      <td>13620.00</td>\n",
       "      <td>$13620.0</td>\n",
       "      <td>1.069665</td>\n",
       "      <td>14582.660932</td>\n",
       "      <td>13632.923329</td>\n",
       "    </tr>\n",
       "  </tbody>\n",
       "</table>\n",
       "</div>"
      ],
      "text/plain": [
       "                         Open      High       Low      Close  BTC Volume  \\\n",
       "Timestamp                                                                  \n",
       "2018-01-01 00:00:00  13681.04  13681.04  13637.93  $13646.48    3.334553   \n",
       "2018-01-01 00:01:00  13646.48  13658.75  13610.18  $13658.75    2.663188   \n",
       "2018-01-01 00:02:00  13616.93  13616.93  13610.06  $13610.22    0.084653   \n",
       "2018-01-01 00:03:00  13610.27  13639.09  13610.27  $13639.09    7.182986   \n",
       "2018-01-01 00:04:00  13635.35  13636.35  13620.00   $13620.0    1.069665   \n",
       "\n",
       "                       USD Volume  Weighted Price  \n",
       "Timestamp                                          \n",
       "2018-01-01 00:00:00  45482.128785    13639.647479  \n",
       "2018-01-01 00:01:00  36361.390888    13653.332816  \n",
       "2018-01-01 00:02:00   1152.144036    13610.136247  \n",
       "2018-01-01 00:03:00  97856.416478    13623.361128  \n",
       "2018-01-01 00:04:00  14582.660932    13632.923329  "
      ]
     },
     "execution_count": 2,
     "metadata": {},
     "output_type": "execute_result"
    }
   ],
   "source": [
    "# Use the head (and/or tail) function to confirm that the data was imported properly.\n",
    "bitstamp.head()\n",
    "\n"
   ]
  },
  {
   "cell_type": "markdown",
   "metadata": {},
   "source": [
    "### Step 3: Repeat Steps 1 and 2 for `coinbase.csv` file."
   ]
  },
  {
   "cell_type": "code",
   "execution_count": 3,
   "metadata": {},
   "outputs": [],
   "source": [
    "# Read in the CSV file called \"coinbase.csv\" using the Path module. \n",
    "# The CSV file is located in the Resources folder.\n",
    "# Set the index to the column \"Timestamp\"\n",
    "# Set the parse_dates and infer_datetime_format parameters\n",
    "import pandas as pd\n",
    "\n",
    "coinbase = coinbase_df = coinbase_DataFrame = pd.read_csv(\n",
    "    Path('charts/coinbase.csv'), \n",
    "    index_col =\"Timestamp\", \n",
    "    parse_dates = True, \n",
    "    infer_datetime_format = True)\n",
    "\n"
   ]
  },
  {
   "cell_type": "code",
   "execution_count": 4,
   "metadata": {},
   "outputs": [
    {
     "data": {
      "text/html": [
       "<div>\n",
       "<style scoped>\n",
       "    .dataframe tbody tr th:only-of-type {\n",
       "        vertical-align: middle;\n",
       "    }\n",
       "\n",
       "    .dataframe tbody tr th {\n",
       "        vertical-align: top;\n",
       "    }\n",
       "\n",
       "    .dataframe thead th {\n",
       "        text-align: right;\n",
       "    }\n",
       "</style>\n",
       "<table border=\"1\" class=\"dataframe\">\n",
       "  <thead>\n",
       "    <tr style=\"text-align: right;\">\n",
       "      <th></th>\n",
       "      <th>Open</th>\n",
       "      <th>High</th>\n",
       "      <th>Low</th>\n",
       "      <th>Close</th>\n",
       "      <th>BTC Volume</th>\n",
       "      <th>USD Volume</th>\n",
       "      <th>Weighted Price</th>\n",
       "    </tr>\n",
       "    <tr>\n",
       "      <th>Timestamp</th>\n",
       "      <th></th>\n",
       "      <th></th>\n",
       "      <th></th>\n",
       "      <th></th>\n",
       "      <th></th>\n",
       "      <th></th>\n",
       "      <th></th>\n",
       "    </tr>\n",
       "  </thead>\n",
       "  <tbody>\n",
       "    <tr>\n",
       "      <th>2018-03-31 23:55:00</th>\n",
       "      <td>6945.20</td>\n",
       "      <td>6948.06</td>\n",
       "      <td>6930.00</td>\n",
       "      <td>$6930.0</td>\n",
       "      <td>5.802288</td>\n",
       "      <td>40243.918480</td>\n",
       "      <td>6935.869979</td>\n",
       "    </tr>\n",
       "    <tr>\n",
       "      <th>2018-03-31 23:56:00</th>\n",
       "      <td>6930.00</td>\n",
       "      <td>6930.01</td>\n",
       "      <td>6930.00</td>\n",
       "      <td>$6930.01</td>\n",
       "      <td>0.625053</td>\n",
       "      <td>4331.620701</td>\n",
       "      <td>6930.005567</td>\n",
       "    </tr>\n",
       "    <tr>\n",
       "      <th>2018-03-31 23:57:00</th>\n",
       "      <td>6930.01</td>\n",
       "      <td>6933.91</td>\n",
       "      <td>6930.01</td>\n",
       "      <td>$6933.91</td>\n",
       "      <td>0.776431</td>\n",
       "      <td>5382.532162</td>\n",
       "      <td>6932.405747</td>\n",
       "    </tr>\n",
       "    <tr>\n",
       "      <th>2018-03-31 23:58:00</th>\n",
       "      <td>6933.91</td>\n",
       "      <td>6938.00</td>\n",
       "      <td>6933.90</td>\n",
       "      <td>$6937.31</td>\n",
       "      <td>0.133413</td>\n",
       "      <td>925.356547</td>\n",
       "      <td>6936.048538</td>\n",
       "    </tr>\n",
       "    <tr>\n",
       "      <th>2018-03-31 23:59:00</th>\n",
       "      <td>6937.30</td>\n",
       "      <td>6937.30</td>\n",
       "      <td>6931.09</td>\n",
       "      <td>$6934.0</td>\n",
       "      <td>1.012720</td>\n",
       "      <td>7022.275088</td>\n",
       "      <td>6934.070316</td>\n",
       "    </tr>\n",
       "  </tbody>\n",
       "</table>\n",
       "</div>"
      ],
      "text/plain": [
       "                        Open     High      Low     Close  BTC Volume  \\\n",
       "Timestamp                                                              \n",
       "2018-03-31 23:55:00  6945.20  6948.06  6930.00   $6930.0    5.802288   \n",
       "2018-03-31 23:56:00  6930.00  6930.01  6930.00  $6930.01    0.625053   \n",
       "2018-03-31 23:57:00  6930.01  6933.91  6930.01  $6933.91    0.776431   \n",
       "2018-03-31 23:58:00  6933.91  6938.00  6933.90  $6937.31    0.133413   \n",
       "2018-03-31 23:59:00  6937.30  6937.30  6931.09   $6934.0    1.012720   \n",
       "\n",
       "                       USD Volume  Weighted Price  \n",
       "Timestamp                                          \n",
       "2018-03-31 23:55:00  40243.918480     6935.869979  \n",
       "2018-03-31 23:56:00   4331.620701     6930.005567  \n",
       "2018-03-31 23:57:00   5382.532162     6932.405747  \n",
       "2018-03-31 23:58:00    925.356547     6936.048538  \n",
       "2018-03-31 23:59:00   7022.275088     6934.070316  "
      ]
     },
     "execution_count": 4,
     "metadata": {},
     "output_type": "execute_result"
    }
   ],
   "source": [
    "# Use the head (and/or tail) function to confirm that the data was imported properly.\n",
    "coinbase.tail()\n"
   ]
  },
  {
   "cell_type": "markdown",
   "metadata": {},
   "source": [
    "## Prepare the Data\n",
    "\n",
    "To prepare and clean your data for analysis, complete the following steps:\n",
    "\n",
    "1. For the bitstamp DataFrame, replace or drop all `NaN`, or missing, values in the DataFrame.\n",
    "\n",
    "2. Use the `str.replace` function to remove the dollar signs ($) from the values in the Close column.\n",
    "\n",
    "3. Convert the data type of the Close column to a `float`.\n",
    "\n",
    "4. Review the data for duplicated values, and drop them if necessary.\n",
    "\n",
    "5. Repeat Steps 1–4 for the coinbase DataFrame."
   ]
  },
  {
   "cell_type": "markdown",
   "metadata": {},
   "source": [
    "### Step 1: For the bitstamp DataFrame, replace or drop all `NaN`, or missing, values in the DataFrame."
   ]
  },
  {
   "cell_type": "code",
   "execution_count": 5,
   "metadata": {},
   "outputs": [],
   "source": [
    "# For the bitstamp DataFrame, replace or drop all NaNs or missing values in the DataFrame\n",
    "bitstamp = bitstamp.dropna()\n"
   ]
  },
  {
   "cell_type": "markdown",
   "metadata": {
    "tags": []
   },
   "source": [
    "### Step 2: Use the `str.replace` function to remove the dollar signs ($) from the values in the Close column."
   ]
  },
  {
   "cell_type": "code",
   "execution_count": 32,
   "metadata": {},
   "outputs": [
    {
     "name": "stderr",
     "output_type": "stream",
     "text": [
      "/var/folders/06/_gx7p38n5pd9jhvqfpk1hc8w0000gn/T/ipykernel_17386/110058528.py:2: FutureWarning: The default value of regex will change from True to False in a future version. In addition, single character regular expressions will *not* be treated as literal strings when regex=True.\n",
      "  bitstamp.loc[:, \"Close\"] = bitstamp.loc[:, \"Close\"].str.replace(\"$\", \"\")\n",
      "/var/folders/06/_gx7p38n5pd9jhvqfpk1hc8w0000gn/T/ipykernel_17386/110058528.py:2: SettingWithCopyWarning: \n",
      "A value is trying to be set on a copy of a slice from a DataFrame.\n",
      "Try using .loc[row_indexer,col_indexer] = value instead\n",
      "\n",
      "See the caveats in the documentation: https://pandas.pydata.org/pandas-docs/stable/user_guide/indexing.html#returning-a-view-versus-a-copy\n",
      "  bitstamp.loc[:, \"Close\"] = bitstamp.loc[:, \"Close\"].str.replace(\"$\", \"\")\n"
     ]
    },
    {
     "data": {
      "text/html": [
       "<div>\n",
       "<style scoped>\n",
       "    .dataframe tbody tr th:only-of-type {\n",
       "        vertical-align: middle;\n",
       "    }\n",
       "\n",
       "    .dataframe tbody tr th {\n",
       "        vertical-align: top;\n",
       "    }\n",
       "\n",
       "    .dataframe thead th {\n",
       "        text-align: right;\n",
       "    }\n",
       "</style>\n",
       "<table border=\"1\" class=\"dataframe\">\n",
       "  <thead>\n",
       "    <tr style=\"text-align: right;\">\n",
       "      <th></th>\n",
       "      <th>Open</th>\n",
       "      <th>High</th>\n",
       "      <th>Low</th>\n",
       "      <th>Close</th>\n",
       "      <th>BTC Volume</th>\n",
       "      <th>USD Volume</th>\n",
       "      <th>Weighted Price</th>\n",
       "    </tr>\n",
       "    <tr>\n",
       "      <th>Timestamp</th>\n",
       "      <th></th>\n",
       "      <th></th>\n",
       "      <th></th>\n",
       "      <th></th>\n",
       "      <th></th>\n",
       "      <th></th>\n",
       "      <th></th>\n",
       "    </tr>\n",
       "  </thead>\n",
       "  <tbody>\n",
       "    <tr>\n",
       "      <th>2018-01-01 00:00:00</th>\n",
       "      <td>13681.04</td>\n",
       "      <td>13681.04</td>\n",
       "      <td>13637.93</td>\n",
       "      <td>13646.48</td>\n",
       "      <td>3.334553</td>\n",
       "      <td>45482.128785</td>\n",
       "      <td>13639.647479</td>\n",
       "    </tr>\n",
       "    <tr>\n",
       "      <th>2018-01-01 00:01:00</th>\n",
       "      <td>13646.48</td>\n",
       "      <td>13658.75</td>\n",
       "      <td>13610.18</td>\n",
       "      <td>13658.75</td>\n",
       "      <td>2.663188</td>\n",
       "      <td>36361.390888</td>\n",
       "      <td>13653.332816</td>\n",
       "    </tr>\n",
       "    <tr>\n",
       "      <th>2018-01-01 00:02:00</th>\n",
       "      <td>13616.93</td>\n",
       "      <td>13616.93</td>\n",
       "      <td>13610.06</td>\n",
       "      <td>13610.22</td>\n",
       "      <td>0.084653</td>\n",
       "      <td>1152.144036</td>\n",
       "      <td>13610.136247</td>\n",
       "    </tr>\n",
       "    <tr>\n",
       "      <th>2018-01-01 00:03:00</th>\n",
       "      <td>13610.27</td>\n",
       "      <td>13639.09</td>\n",
       "      <td>13610.27</td>\n",
       "      <td>13639.09</td>\n",
       "      <td>7.182986</td>\n",
       "      <td>97856.416478</td>\n",
       "      <td>13623.361128</td>\n",
       "    </tr>\n",
       "    <tr>\n",
       "      <th>2018-01-01 00:04:00</th>\n",
       "      <td>13635.35</td>\n",
       "      <td>13636.35</td>\n",
       "      <td>13620.00</td>\n",
       "      <td>13620.0</td>\n",
       "      <td>1.069665</td>\n",
       "      <td>14582.660932</td>\n",
       "      <td>13632.923329</td>\n",
       "    </tr>\n",
       "  </tbody>\n",
       "</table>\n",
       "</div>"
      ],
      "text/plain": [
       "                         Open      High       Low     Close  BTC Volume  \\\n",
       "Timestamp                                                                 \n",
       "2018-01-01 00:00:00  13681.04  13681.04  13637.93  13646.48    3.334553   \n",
       "2018-01-01 00:01:00  13646.48  13658.75  13610.18  13658.75    2.663188   \n",
       "2018-01-01 00:02:00  13616.93  13616.93  13610.06  13610.22    0.084653   \n",
       "2018-01-01 00:03:00  13610.27  13639.09  13610.27  13639.09    7.182986   \n",
       "2018-01-01 00:04:00  13635.35  13636.35  13620.00   13620.0    1.069665   \n",
       "\n",
       "                       USD Volume  Weighted Price  \n",
       "Timestamp                                          \n",
       "2018-01-01 00:00:00  45482.128785    13639.647479  \n",
       "2018-01-01 00:01:00  36361.390888    13653.332816  \n",
       "2018-01-01 00:02:00   1152.144036    13610.136247  \n",
       "2018-01-01 00:03:00  97856.416478    13623.361128  \n",
       "2018-01-01 00:04:00  14582.660932    13632.923329  "
      ]
     },
     "execution_count": 32,
     "metadata": {},
     "output_type": "execute_result"
    }
   ],
   "source": [
    "# Use the str.replace function to remove the dollar sign, $\n",
    "bitstamp.loc[:, \"Close\"] = bitstamp.loc[:, \"Close\"].str.replace(\"$\", \"\")\n",
    "bitstamp.head()\n",
    "\n"
   ]
  },
  {
   "cell_type": "markdown",
   "metadata": {},
   "source": [
    "### Step 3: Convert the data type of the Close column to a `float`."
   ]
  },
  {
   "cell_type": "code",
   "execution_count": 35,
   "metadata": {},
   "outputs": [
    {
     "name": "stderr",
     "output_type": "stream",
     "text": [
      "/var/folders/06/_gx7p38n5pd9jhvqfpk1hc8w0000gn/T/ipykernel_17386/471008430.py:2: SettingWithCopyWarning: \n",
      "A value is trying to be set on a copy of a slice from a DataFrame.\n",
      "Try using .loc[row_indexer,col_indexer] = value instead\n",
      "\n",
      "See the caveats in the documentation: https://pandas.pydata.org/pandas-docs/stable/user_guide/indexing.html#returning-a-view-versus-a-copy\n",
      "  bitstamp.loc[:, \"Close\"] = bitstamp.loc[:, \"Close\"].astype(\"float\")\n"
     ]
    },
    {
     "data": {
      "text/html": [
       "<div>\n",
       "<style scoped>\n",
       "    .dataframe tbody tr th:only-of-type {\n",
       "        vertical-align: middle;\n",
       "    }\n",
       "\n",
       "    .dataframe tbody tr th {\n",
       "        vertical-align: top;\n",
       "    }\n",
       "\n",
       "    .dataframe thead th {\n",
       "        text-align: right;\n",
       "    }\n",
       "</style>\n",
       "<table border=\"1\" class=\"dataframe\">\n",
       "  <thead>\n",
       "    <tr style=\"text-align: right;\">\n",
       "      <th></th>\n",
       "      <th>Open</th>\n",
       "      <th>High</th>\n",
       "      <th>Low</th>\n",
       "      <th>Close</th>\n",
       "      <th>BTC Volume</th>\n",
       "      <th>USD Volume</th>\n",
       "      <th>Weighted Price</th>\n",
       "    </tr>\n",
       "    <tr>\n",
       "      <th>Timestamp</th>\n",
       "      <th></th>\n",
       "      <th></th>\n",
       "      <th></th>\n",
       "      <th></th>\n",
       "      <th></th>\n",
       "      <th></th>\n",
       "      <th></th>\n",
       "    </tr>\n",
       "  </thead>\n",
       "  <tbody>\n",
       "    <tr>\n",
       "      <th>2018-01-01 00:00:00</th>\n",
       "      <td>13681.04</td>\n",
       "      <td>13681.04</td>\n",
       "      <td>13637.93</td>\n",
       "      <td>13646.48</td>\n",
       "      <td>3.334553</td>\n",
       "      <td>45482.128785</td>\n",
       "      <td>13639.647479</td>\n",
       "    </tr>\n",
       "    <tr>\n",
       "      <th>2018-01-01 00:01:00</th>\n",
       "      <td>13646.48</td>\n",
       "      <td>13658.75</td>\n",
       "      <td>13610.18</td>\n",
       "      <td>13658.75</td>\n",
       "      <td>2.663188</td>\n",
       "      <td>36361.390888</td>\n",
       "      <td>13653.332816</td>\n",
       "    </tr>\n",
       "    <tr>\n",
       "      <th>2018-01-01 00:02:00</th>\n",
       "      <td>13616.93</td>\n",
       "      <td>13616.93</td>\n",
       "      <td>13610.06</td>\n",
       "      <td>13610.22</td>\n",
       "      <td>0.084653</td>\n",
       "      <td>1152.144036</td>\n",
       "      <td>13610.136247</td>\n",
       "    </tr>\n",
       "    <tr>\n",
       "      <th>2018-01-01 00:03:00</th>\n",
       "      <td>13610.27</td>\n",
       "      <td>13639.09</td>\n",
       "      <td>13610.27</td>\n",
       "      <td>13639.09</td>\n",
       "      <td>7.182986</td>\n",
       "      <td>97856.416478</td>\n",
       "      <td>13623.361128</td>\n",
       "    </tr>\n",
       "    <tr>\n",
       "      <th>2018-01-01 00:04:00</th>\n",
       "      <td>13635.35</td>\n",
       "      <td>13636.35</td>\n",
       "      <td>13620.00</td>\n",
       "      <td>13620.00</td>\n",
       "      <td>1.069665</td>\n",
       "      <td>14582.660932</td>\n",
       "      <td>13632.923329</td>\n",
       "    </tr>\n",
       "  </tbody>\n",
       "</table>\n",
       "</div>"
      ],
      "text/plain": [
       "                         Open      High       Low     Close  BTC Volume  \\\n",
       "Timestamp                                                                 \n",
       "2018-01-01 00:00:00  13681.04  13681.04  13637.93  13646.48    3.334553   \n",
       "2018-01-01 00:01:00  13646.48  13658.75  13610.18  13658.75    2.663188   \n",
       "2018-01-01 00:02:00  13616.93  13616.93  13610.06  13610.22    0.084653   \n",
       "2018-01-01 00:03:00  13610.27  13639.09  13610.27  13639.09    7.182986   \n",
       "2018-01-01 00:04:00  13635.35  13636.35  13620.00  13620.00    1.069665   \n",
       "\n",
       "                       USD Volume  Weighted Price  \n",
       "Timestamp                                          \n",
       "2018-01-01 00:00:00  45482.128785    13639.647479  \n",
       "2018-01-01 00:01:00  36361.390888    13653.332816  \n",
       "2018-01-01 00:02:00   1152.144036    13610.136247  \n",
       "2018-01-01 00:03:00  97856.416478    13623.361128  \n",
       "2018-01-01 00:04:00  14582.660932    13632.923329  "
      ]
     },
     "execution_count": 35,
     "metadata": {},
     "output_type": "execute_result"
    }
   ],
   "source": [
    "# Convert the Close data type to a float\n",
    "bitstamp.loc[:, \"Close\"] = bitstamp.loc[:, \"Close\"].astype(\"float\")\n",
    "\n"
   ]
  },
  {
   "cell_type": "markdown",
   "metadata": {},
   "source": [
    "### Step 4: Review the data for duplicated values, and drop them if necessary."
   ]
  },
  {
   "cell_type": "code",
   "execution_count": 36,
   "metadata": {},
   "outputs": [
    {
     "data": {
      "text/plain": [
       "0"
      ]
     },
     "execution_count": 36,
     "metadata": {},
     "output_type": "execute_result"
    }
   ],
   "source": [
    "# Review the data for duplicate values, and drop them if necessary\n",
    "bitstamp.duplicated().sum()\n",
    "\n"
   ]
  },
  {
   "cell_type": "markdown",
   "metadata": {},
   "source": [
    "### Step 5: Repeat Steps 1–4 for the coinbase DataFrame."
   ]
  },
  {
   "cell_type": "code",
   "execution_count": 44,
   "metadata": {},
   "outputs": [],
   "source": [
    "# Repeat Steps 1–4 for the coinbase DataFrame\n",
    "coinbase = coinbase.dropna()\n",
    "\n",
    "\n"
   ]
  },
  {
   "cell_type": "code",
   "execution_count": 46,
   "metadata": {},
   "outputs": [
    {
     "name": "stderr",
     "output_type": "stream",
     "text": [
      "/var/folders/06/_gx7p38n5pd9jhvqfpk1hc8w0000gn/T/ipykernel_17386/4073731833.py:1: FutureWarning: The default value of regex will change from True to False in a future version. In addition, single character regular expressions will *not* be treated as literal strings when regex=True.\n",
      "  coinbase.loc[:, \"Close\"] = coinbase.loc[:, \"Close\"].astype(str).str.replace(\"$\", \"\")\n"
     ]
    },
    {
     "data": {
      "text/html": [
       "<div>\n",
       "<style scoped>\n",
       "    .dataframe tbody tr th:only-of-type {\n",
       "        vertical-align: middle;\n",
       "    }\n",
       "\n",
       "    .dataframe tbody tr th {\n",
       "        vertical-align: top;\n",
       "    }\n",
       "\n",
       "    .dataframe thead th {\n",
       "        text-align: right;\n",
       "    }\n",
       "</style>\n",
       "<table border=\"1\" class=\"dataframe\">\n",
       "  <thead>\n",
       "    <tr style=\"text-align: right;\">\n",
       "      <th></th>\n",
       "      <th>Open</th>\n",
       "      <th>High</th>\n",
       "      <th>Low</th>\n",
       "      <th>Close</th>\n",
       "      <th>BTC Volume</th>\n",
       "      <th>USD Volume</th>\n",
       "      <th>Weighted Price</th>\n",
       "    </tr>\n",
       "    <tr>\n",
       "      <th>Timestamp</th>\n",
       "      <th></th>\n",
       "      <th></th>\n",
       "      <th></th>\n",
       "      <th></th>\n",
       "      <th></th>\n",
       "      <th></th>\n",
       "      <th></th>\n",
       "    </tr>\n",
       "  </thead>\n",
       "  <tbody>\n",
       "    <tr>\n",
       "      <th>2018-01-01 00:00:00</th>\n",
       "      <td>13620.00</td>\n",
       "      <td>13620.00</td>\n",
       "      <td>13608.49</td>\n",
       "      <td>13608.49</td>\n",
       "      <td>20.812754</td>\n",
       "      <td>283451.08537</td>\n",
       "      <td>13619.105106</td>\n",
       "    </tr>\n",
       "    <tr>\n",
       "      <th>2018-01-01 00:01:00</th>\n",
       "      <td>13607.14</td>\n",
       "      <td>13607.14</td>\n",
       "      <td>13601.66</td>\n",
       "      <td>13601.66</td>\n",
       "      <td>13.474359</td>\n",
       "      <td>183283.97801</td>\n",
       "      <td>13602.426919</td>\n",
       "    </tr>\n",
       "    <tr>\n",
       "      <th>2018-01-01 00:02:00</th>\n",
       "      <td>13601.44</td>\n",
       "      <td>13601.44</td>\n",
       "      <td>13580.00</td>\n",
       "      <td>13580.0</td>\n",
       "      <td>11.536360</td>\n",
       "      <td>156789.19686</td>\n",
       "      <td>13590.872506</td>\n",
       "    </tr>\n",
       "    <tr>\n",
       "      <th>2018-01-01 00:03:00</th>\n",
       "      <td>13587.31</td>\n",
       "      <td>13587.31</td>\n",
       "      <td>13542.70</td>\n",
       "      <td>13550.34</td>\n",
       "      <td>16.328039</td>\n",
       "      <td>221413.64182</td>\n",
       "      <td>13560.332806</td>\n",
       "    </tr>\n",
       "    <tr>\n",
       "      <th>2018-01-01 00:04:00</th>\n",
       "      <td>13550.34</td>\n",
       "      <td>13585.95</td>\n",
       "      <td>13550.34</td>\n",
       "      <td>13583.44</td>\n",
       "      <td>9.955364</td>\n",
       "      <td>135141.26944</td>\n",
       "      <td>13574.719401</td>\n",
       "    </tr>\n",
       "  </tbody>\n",
       "</table>\n",
       "</div>"
      ],
      "text/plain": [
       "                         Open      High       Low     Close  BTC Volume  \\\n",
       "Timestamp                                                                 \n",
       "2018-01-01 00:00:00  13620.00  13620.00  13608.49  13608.49   20.812754   \n",
       "2018-01-01 00:01:00  13607.14  13607.14  13601.66  13601.66   13.474359   \n",
       "2018-01-01 00:02:00  13601.44  13601.44  13580.00   13580.0   11.536360   \n",
       "2018-01-01 00:03:00  13587.31  13587.31  13542.70  13550.34   16.328039   \n",
       "2018-01-01 00:04:00  13550.34  13585.95  13550.34  13583.44    9.955364   \n",
       "\n",
       "                       USD Volume  Weighted Price  \n",
       "Timestamp                                          \n",
       "2018-01-01 00:00:00  283451.08537    13619.105106  \n",
       "2018-01-01 00:01:00  183283.97801    13602.426919  \n",
       "2018-01-01 00:02:00  156789.19686    13590.872506  \n",
       "2018-01-01 00:03:00  221413.64182    13560.332806  \n",
       "2018-01-01 00:04:00  135141.26944    13574.719401  "
      ]
     },
     "execution_count": 46,
     "metadata": {},
     "output_type": "execute_result"
    }
   ],
   "source": [
    "coinbase.loc[:, \"Close\"] = coinbase.loc[:, \"Close\"].astype(str).str.replace(\"$\", \"\")\n",
    "coinbase.head()\n",
    "\n"
   ]
  },
  {
   "cell_type": "code",
   "execution_count": 49,
   "metadata": {},
   "outputs": [],
   "source": [
    "coinbase.loc[:, \"Close\"] = coinbase.loc[:, \"Close\"].astype(\"float\")\n",
    "\n"
   ]
  },
  {
   "cell_type": "code",
   "execution_count": 50,
   "metadata": {},
   "outputs": [
    {
     "data": {
      "text/plain": [
       "0"
      ]
     },
     "execution_count": 50,
     "metadata": {},
     "output_type": "execute_result"
    }
   ],
   "source": [
    "coinbase.duplicated().sum()\n",
    "\n"
   ]
  },
  {
   "cell_type": "markdown",
   "metadata": {
    "jp-MarkdownHeadingCollapsed": true,
    "tags": []
   },
   "source": [
    "## Analyze the Data\n",
    "\n",
    "Your analysis consists of the following tasks: \n",
    "\n",
    "1. Choose the columns of data on which to focus your analysis.\n",
    "\n",
    "2. Get the summary statistics and plot the data.\n",
    "\n",
    "3. Focus your analysis on specific dates.\n",
    "\n",
    "\n",
    "4. Calculate the arbitrage profits."
   ]
  },
  {
   "cell_type": "markdown",
   "metadata": {},
   "source": [
    "### Step 1: Choose columns of data on which to focus your analysis.\n",
    "\n",
    "Select the data you want to analyze. Use `loc` or `iloc` to select the following columns of data for both the bitstamp and coinbase DataFrames:\n",
    "\n",
    "* Timestamp (index)\n",
    "\n",
    "* Close\n"
   ]
  },
  {
   "cell_type": "code",
   "execution_count": 70,
   "metadata": {},
   "outputs": [
    {
     "data": {
      "text/plain": [
       "Timestamp\n",
       "2018-01-01 00:00:00    13646.48\n",
       "2018-01-01 00:01:00    13658.75\n",
       "2018-01-01 00:02:00    13610.22\n",
       "2018-01-01 00:03:00    13639.09\n",
       "2018-01-01 00:04:00    13620.00\n",
       "Name: Close, dtype: float64"
      ]
     },
     "execution_count": 70,
     "metadata": {},
     "output_type": "execute_result"
    }
   ],
   "source": [
    "# Use loc or iloc to select `Timestamp (the index)` and `Close` from bitstamp DataFrame\n",
    "bitstamp_sliced = bitstamp.iloc[0:10,3]\n",
    "\n",
    "# Review the first five rows of the DataFrame\n",
    "\n",
    "bitstamp_sliced.head()\n",
    "\n"
   ]
  },
  {
   "cell_type": "code",
   "execution_count": 72,
   "metadata": {},
   "outputs": [
    {
     "data": {
      "text/plain": [
       "Timestamp\n",
       "2018-01-01 00:00:00    13608.49\n",
       "2018-01-01 00:01:00    13601.66\n",
       "2018-01-01 00:02:00    13580.00\n",
       "2018-01-01 00:03:00    13550.34\n",
       "2018-01-01 00:04:00    13583.44\n",
       "Name: Close, dtype: float64"
      ]
     },
     "execution_count": 72,
     "metadata": {},
     "output_type": "execute_result"
    }
   ],
   "source": [
    "# Use loc or iloc to select `Timestamp (the index)` and `Close` from coinbase DataFrame\n",
    "coinbase_sliced = coinbase.iloc[0:10,3]\n",
    "\n",
    "# Review the first five rows of the DataFrame\n",
    "coinbase_sliced.head()\n",
    "\n"
   ]
  },
  {
   "cell_type": "markdown",
   "metadata": {},
   "source": [
    "### Step 2: Get summary statistics and plot the data.\n",
    "\n",
    "Sort through the time series data associated with the bitstamp and coinbase DataFrames to identify potential arbitrage opportunities. To do so, complete the following steps:\n",
    "\n",
    "1. Generate the summary statistics for each DataFrame by using the `describe` function.\n",
    "\n",
    "2. For each DataFrame, create a line plot for the full period of time in the dataset. Be sure to tailor the figure size, title, and color to each visualization.\n",
    "\n",
    "3. In one plot, overlay the visualizations that you created in Step 2 for bitstamp and coinbase. Be sure to adjust the legend and title for this new visualization.\n",
    "\n",
    "4. Using the `loc` and `plot` functions, plot the price action of the assets on each exchange for different dates and times. Your goal is to evaluate how the spread between the two exchanges changed across the time period that the datasets define. Did the degree of spread change as time progressed?"
   ]
  },
  {
   "cell_type": "code",
   "execution_count": 73,
   "metadata": {},
   "outputs": [
    {
     "data": {
      "text/html": [
       "<div>\n",
       "<style scoped>\n",
       "    .dataframe tbody tr th:only-of-type {\n",
       "        vertical-align: middle;\n",
       "    }\n",
       "\n",
       "    .dataframe tbody tr th {\n",
       "        vertical-align: top;\n",
       "    }\n",
       "\n",
       "    .dataframe thead th {\n",
       "        text-align: right;\n",
       "    }\n",
       "</style>\n",
       "<table border=\"1\" class=\"dataframe\">\n",
       "  <thead>\n",
       "    <tr style=\"text-align: right;\">\n",
       "      <th></th>\n",
       "      <th>Open</th>\n",
       "      <th>High</th>\n",
       "      <th>Low</th>\n",
       "      <th>Close</th>\n",
       "      <th>BTC Volume</th>\n",
       "      <th>USD Volume</th>\n",
       "      <th>Weighted Price</th>\n",
       "    </tr>\n",
       "  </thead>\n",
       "  <tbody>\n",
       "    <tr>\n",
       "      <th>count</th>\n",
       "      <td>129067.000000</td>\n",
       "      <td>129067.000000</td>\n",
       "      <td>129067.000000</td>\n",
       "      <td>129067.000000</td>\n",
       "      <td>129067.000000</td>\n",
       "      <td>1.290670e+05</td>\n",
       "      <td>129067.000000</td>\n",
       "    </tr>\n",
       "    <tr>\n",
       "      <th>mean</th>\n",
       "      <td>10459.993683</td>\n",
       "      <td>10472.970114</td>\n",
       "      <td>10446.214703</td>\n",
       "      <td>10459.842453</td>\n",
       "      <td>11.792878</td>\n",
       "      <td>1.177496e+05</td>\n",
       "      <td>10459.384448</td>\n",
       "    </tr>\n",
       "    <tr>\n",
       "      <th>std</th>\n",
       "      <td>2315.909269</td>\n",
       "      <td>2318.929342</td>\n",
       "      <td>2312.331601</td>\n",
       "      <td>2315.976088</td>\n",
       "      <td>21.799938</td>\n",
       "      <td>2.070551e+05</td>\n",
       "      <td>2315.723480</td>\n",
       "    </tr>\n",
       "    <tr>\n",
       "      <th>min</th>\n",
       "      <td>5945.950000</td>\n",
       "      <td>5975.060000</td>\n",
       "      <td>5920.720000</td>\n",
       "      <td>5944.000000</td>\n",
       "      <td>0.000039</td>\n",
       "      <td>3.333436e-01</td>\n",
       "      <td>5949.997212</td>\n",
       "    </tr>\n",
       "    <tr>\n",
       "      <th>25%</th>\n",
       "      <td>8613.985000</td>\n",
       "      <td>8621.655000</td>\n",
       "      <td>8604.440000</td>\n",
       "      <td>8613.370000</td>\n",
       "      <td>1.711874</td>\n",
       "      <td>1.773244e+04</td>\n",
       "      <td>8613.587020</td>\n",
       "    </tr>\n",
       "    <tr>\n",
       "      <th>50%</th>\n",
       "      <td>10145.300000</td>\n",
       "      <td>10156.410000</td>\n",
       "      <td>10131.740000</td>\n",
       "      <td>10145.950000</td>\n",
       "      <td>4.994095</td>\n",
       "      <td>5.188050e+04</td>\n",
       "      <td>10144.740411</td>\n",
       "    </tr>\n",
       "    <tr>\n",
       "      <th>75%</th>\n",
       "      <td>11444.455000</td>\n",
       "      <td>11453.990000</td>\n",
       "      <td>11431.970000</td>\n",
       "      <td>11444.810000</td>\n",
       "      <td>12.717950</td>\n",
       "      <td>1.313104e+05</td>\n",
       "      <td>11443.791560</td>\n",
       "    </tr>\n",
       "    <tr>\n",
       "      <th>max</th>\n",
       "      <td>17234.980000</td>\n",
       "      <td>17234.990000</td>\n",
       "      <td>17214.960000</td>\n",
       "      <td>17234.980000</td>\n",
       "      <td>580.646391</td>\n",
       "      <td>5.483271e+06</td>\n",
       "      <td>17227.810502</td>\n",
       "    </tr>\n",
       "  </tbody>\n",
       "</table>\n",
       "</div>"
      ],
      "text/plain": [
       "                Open           High            Low          Close  \\\n",
       "count  129067.000000  129067.000000  129067.000000  129067.000000   \n",
       "mean    10459.993683   10472.970114   10446.214703   10459.842453   \n",
       "std      2315.909269    2318.929342    2312.331601    2315.976088   \n",
       "min      5945.950000    5975.060000    5920.720000    5944.000000   \n",
       "25%      8613.985000    8621.655000    8604.440000    8613.370000   \n",
       "50%     10145.300000   10156.410000   10131.740000   10145.950000   \n",
       "75%     11444.455000   11453.990000   11431.970000   11444.810000   \n",
       "max     17234.980000   17234.990000   17214.960000   17234.980000   \n",
       "\n",
       "          BTC Volume    USD Volume  Weighted Price  \n",
       "count  129067.000000  1.290670e+05   129067.000000  \n",
       "mean       11.792878  1.177496e+05    10459.384448  \n",
       "std        21.799938  2.070551e+05     2315.723480  \n",
       "min         0.000039  3.333436e-01     5949.997212  \n",
       "25%         1.711874  1.773244e+04     8613.587020  \n",
       "50%         4.994095  5.188050e+04    10144.740411  \n",
       "75%        12.717950  1.313104e+05    11443.791560  \n",
       "max       580.646391  5.483271e+06    17227.810502  "
      ]
     },
     "execution_count": 73,
     "metadata": {},
     "output_type": "execute_result"
    }
   ],
   "source": [
    "# Generate the summary statistics for the bitstamp DataFrame\n",
    "bitstamp.describe()\n",
    "\n"
   ]
  },
  {
   "cell_type": "code",
   "execution_count": 74,
   "metadata": {},
   "outputs": [
    {
     "data": {
      "text/html": [
       "<div>\n",
       "<style scoped>\n",
       "    .dataframe tbody tr th:only-of-type {\n",
       "        vertical-align: middle;\n",
       "    }\n",
       "\n",
       "    .dataframe tbody tr th {\n",
       "        vertical-align: top;\n",
       "    }\n",
       "\n",
       "    .dataframe thead th {\n",
       "        text-align: right;\n",
       "    }\n",
       "</style>\n",
       "<table border=\"1\" class=\"dataframe\">\n",
       "  <thead>\n",
       "    <tr style=\"text-align: right;\">\n",
       "      <th></th>\n",
       "      <th>Open</th>\n",
       "      <th>High</th>\n",
       "      <th>Low</th>\n",
       "      <th>Close</th>\n",
       "      <th>BTC Volume</th>\n",
       "      <th>USD Volume</th>\n",
       "      <th>Weighted Price</th>\n",
       "    </tr>\n",
       "  </thead>\n",
       "  <tbody>\n",
       "    <tr>\n",
       "      <th>count</th>\n",
       "      <td>129322.000000</td>\n",
       "      <td>129322.000000</td>\n",
       "      <td>129322.000000</td>\n",
       "      <td>129322.000000</td>\n",
       "      <td>129322.000000</td>\n",
       "      <td>1.293220e+05</td>\n",
       "      <td>129322.000000</td>\n",
       "    </tr>\n",
       "    <tr>\n",
       "      <th>mean</th>\n",
       "      <td>10449.213185</td>\n",
       "      <td>10456.118514</td>\n",
       "      <td>10441.872248</td>\n",
       "      <td>10449.140958</td>\n",
       "      <td>15.666556</td>\n",
       "      <td>1.572565e+05</td>\n",
       "      <td>10448.964130</td>\n",
       "    </tr>\n",
       "    <tr>\n",
       "      <th>std</th>\n",
       "      <td>2317.194653</td>\n",
       "      <td>2317.710389</td>\n",
       "      <td>2316.570594</td>\n",
       "      <td>2317.197419</td>\n",
       "      <td>27.481647</td>\n",
       "      <td>2.667879e+05</td>\n",
       "      <td>2317.167139</td>\n",
       "    </tr>\n",
       "    <tr>\n",
       "      <th>min</th>\n",
       "      <td>5882.300000</td>\n",
       "      <td>5907.280000</td>\n",
       "      <td>5873.000000</td>\n",
       "      <td>5882.310000</td>\n",
       "      <td>0.000442</td>\n",
       "      <td>6.699174e+00</td>\n",
       "      <td>5883.394912</td>\n",
       "    </tr>\n",
       "    <tr>\n",
       "      <th>25%</th>\n",
       "      <td>8609.230000</td>\n",
       "      <td>8613.872500</td>\n",
       "      <td>8603.505000</td>\n",
       "      <td>8609.230000</td>\n",
       "      <td>2.999125</td>\n",
       "      <td>3.071222e+04</td>\n",
       "      <td>8609.135020</td>\n",
       "    </tr>\n",
       "    <tr>\n",
       "      <th>50%</th>\n",
       "      <td>10137.440000</td>\n",
       "      <td>10145.900000</td>\n",
       "      <td>10127.880000</td>\n",
       "      <td>10137.440000</td>\n",
       "      <td>7.092572</td>\n",
       "      <td>7.461366e+04</td>\n",
       "      <td>10136.035004</td>\n",
       "    </tr>\n",
       "    <tr>\n",
       "      <th>75%</th>\n",
       "      <td>11397.522500</td>\n",
       "      <td>11400.000000</td>\n",
       "      <td>11390.000000</td>\n",
       "      <td>11397.237500</td>\n",
       "      <td>16.954279</td>\n",
       "      <td>1.754530e+05</td>\n",
       "      <td>11396.970843</td>\n",
       "    </tr>\n",
       "    <tr>\n",
       "      <th>max</th>\n",
       "      <td>17178.000000</td>\n",
       "      <td>17178.000000</td>\n",
       "      <td>17177.990000</td>\n",
       "      <td>17177.990000</td>\n",
       "      <td>959.084903</td>\n",
       "      <td>1.152334e+07</td>\n",
       "      <td>17177.995495</td>\n",
       "    </tr>\n",
       "  </tbody>\n",
       "</table>\n",
       "</div>"
      ],
      "text/plain": [
       "                Open           High            Low          Close  \\\n",
       "count  129322.000000  129322.000000  129322.000000  129322.000000   \n",
       "mean    10449.213185   10456.118514   10441.872248   10449.140958   \n",
       "std      2317.194653    2317.710389    2316.570594    2317.197419   \n",
       "min      5882.300000    5907.280000    5873.000000    5882.310000   \n",
       "25%      8609.230000    8613.872500    8603.505000    8609.230000   \n",
       "50%     10137.440000   10145.900000   10127.880000   10137.440000   \n",
       "75%     11397.522500   11400.000000   11390.000000   11397.237500   \n",
       "max     17178.000000   17178.000000   17177.990000   17177.990000   \n",
       "\n",
       "          BTC Volume    USD Volume  Weighted Price  \n",
       "count  129322.000000  1.293220e+05   129322.000000  \n",
       "mean       15.666556  1.572565e+05    10448.964130  \n",
       "std        27.481647  2.667879e+05     2317.167139  \n",
       "min         0.000442  6.699174e+00     5883.394912  \n",
       "25%         2.999125  3.071222e+04     8609.135020  \n",
       "50%         7.092572  7.461366e+04    10136.035004  \n",
       "75%        16.954279  1.754530e+05    11396.970843  \n",
       "max       959.084903  1.152334e+07    17177.995495  "
      ]
     },
     "execution_count": 74,
     "metadata": {},
     "output_type": "execute_result"
    }
   ],
   "source": [
    "# Generate the summary statistics for the coinbase DataFrame\n",
    "coinbase.describe()\n",
    "\n"
   ]
  },
  {
   "cell_type": "code",
   "execution_count": 79,
   "metadata": {},
   "outputs": [
    {
     "data": {
      "text/plain": [
       "<AxesSubplot:title={'center':'Bitstamp'}, xlabel='Timestamp'>"
      ]
     },
     "execution_count": 79,
     "metadata": {},
     "output_type": "execute_result"
    },
    {
     "data": {
      "image/png": "[encoded data removed]",
      "text/plain": [
       "<Figure size 720x216 with 1 Axes>"
      ]
     },
     "metadata": {
      "needs_background": "light"
     },
     "output_type": "display_data"
    }
   ],
   "source": [
    "# Create a line plot for the bitstamp DataFrame for the full length of time in the dataset \n",
    "# Be sure that the figure size, title, and color are tailored to each visualization\n",
    "bitstamp.plot(figsize=(10,3), title=\"Bitstamp\", color=\"yellow\")\n",
    "\n"
   ]
  },
  {
   "cell_type": "code",
   "execution_count": 78,
   "metadata": {},
   "outputs": [
    {
     "data": {
      "text/plain": [
       "<AxesSubplot:title={'center':'Coinbase'}, xlabel='Timestamp'>"
      ]
     },
     "execution_count": 78,
     "metadata": {},
     "output_type": "execute_result"
    },
    {
     "data": {
      "image/png": "[encoded data removed]",
      "text/plain": [
       "<Figure size 720x216 with 1 Axes>"
      ]
     },
     "metadata": {
      "needs_background": "light"
     },
     "output_type": "display_data"
    }
   ],
   "source": [
    "# Create a line plot for the coinbase DataFrame for the full length of time in the dataset \n",
    "# Be sure that the figure size, title, and color are tailored toeach visualization\n",
    "coinbase.plot(figsize=(10,3), title=\"Coinbase\", color=\"blue\")\n",
    "\n"
   ]
  },
  {
   "cell_type": "code",
   "execution_count": 82,
   "metadata": {},
   "outputs": [
    {
     "data": {
      "text/plain": [
       "<AxesSubplot:title={'center':'Coinbase v. Bitstamp'}, xlabel='Timestamp'>"
      ]
     },
     "execution_count": 82,
     "metadata": {},
     "output_type": "execute_result"
    },
    {
     "data": {
      "image/png": "[encoded data removed]",
      "text/plain": [
       "<Figure size 720x216 with 1 Axes>"
      ]
     },
     "metadata": {
      "needs_background": "light"
     },
     "output_type": "display_data"
    }
   ],
   "source": [
    "# Overlay the visualizations for the bitstamp and coinbase DataFrames in one plot\n",
    "# The plot should visualize the prices over the full lenth of the dataset\n",
    "# Be sure to include the parameters: legend, figure size, title, and color and label\n",
    "coinbase['Close'].plot(legend=True, figsize=(10,3), title=\"Coinbase v. Bitstamp\", color=\"blue\", label=\"coinbase\")\n",
    "bitstamp['Close'].plot(legend=True, figsize=(10,3), color=\"yellow\", label=\"bitstamp\") \n",
    "\n"
   ]
  },
  {
   "cell_type": "code",
   "execution_count": 90,
   "metadata": {},
   "outputs": [
    {
     "data": {
      "text/plain": [
       "<AxesSubplot:title={'center':'Coinbase v. Bitstamp'}, xlabel='Timestamp'>"
      ]
     },
     "execution_count": 90,
     "metadata": {},
     "output_type": "execute_result"
    },
    {
     "data": {
      "image/png": "[encoded data removed]",
      "text/plain": [
       "<Figure size 720x216 with 1 Axes>"
      ]
     },
     "metadata": {
      "needs_background": "light"
     },
     "output_type": "display_data"
    }
   ],
   "source": [
    "# Using the loc and plot functions, create an overlay plot that visualizes \n",
    "# the price action of both DataFrames for a one month period early in the dataset\n",
    "# Be sure to include the parameters: legend, figure size, title, and color and label\n",
    "coinbase['Close'].loc['2018-01-01' : '2018-02-01'].plot(legend=True, figsize=(10,3), title=\"Coinbase v. Bitstamp\", color=\"blue\", label=\"coinbase\")\n",
    "bitstamp['Close'].loc['2018-01-01' : '2018-02-01'].plot(legend=True, figsize=(10,3), color=\"yellow\", label=\"bitstamp\") \n"
   ]
  },
  {
   "cell_type": "code",
   "execution_count": 91,
   "metadata": {},
   "outputs": [
    {
     "data": {
      "text/plain": [
       "<AxesSubplot:title={'center':'Coinbase v. Bitstamp'}, xlabel='Timestamp'>"
      ]
     },
     "execution_count": 91,
     "metadata": {},
     "output_type": "execute_result"
    },
    {
     "data": {
      "image/png": "[encoded data removed]",
      "text/plain": [
       "<Figure size 720x216 with 1 Axes>"
      ]
     },
     "metadata": {
      "needs_background": "light"
     },
     "output_type": "display_data"
    }
   ],
   "source": [
    "# Using the loc and plot functions, create an overlay plot that visualizes \n",
    "# the price action of both DataFrames for a one month period later in the dataset\n",
    "# Be sure to include the parameters: legend, figure size, title, and color and label \n",
    "coinbase['Close'].loc['2018-02-01' : '2018-03-01'].plot(legend=True, figsize=(10,3), title=\"Coinbase v. Bitstamp\", color=\"blue\", label=\"coinbase\")\n",
    "bitstamp['Close'].loc['2018-02-01' : '2018-03-01'].plot(legend=True, figsize=(10,3), color=\"yellow\", label=\"bitstamp\") \n",
    "\n"
   ]
  },
  {
   "cell_type": "markdown",
   "metadata": {},
   "source": [
    "**Question** Based on the visualizations of the different time periods, has the degree of spread change as time progressed?\n",
    "\n",
    "**Answer** Based on the visualization yes the degree of spread has changed over time. \n"
   ]
  },
  {
   "cell_type": "markdown",
   "metadata": {},
   "source": [
    "### Step 3: Focus Your Analysis on Specific Dates\n",
    "\n",
    "Focus your analysis on specific dates by completing the following steps:\n",
    "\n",
    "1. Select three dates to evaluate for arbitrage profitability. Choose one date that’s early in the dataset, one from the middle of the dataset, and one from the later part of the time period.\n",
    "January 5th 2018, Febuary 2nd 2018, March 5th 2018. \n",
    "2. For each of the three dates, generate the summary statistics and then create a box plot. This big-picture view is meant to help you gain a better understanding of the data before you perform your arbitrage calculations. As you compare the data, what conclusions can you draw?\n",
    "\n"
   ]
  },
  {
   "cell_type": "code",
   "execution_count": 101,
   "metadata": {},
   "outputs": [],
   "source": [
    "import pandas as pd\n",
    "import numpy as np\n",
    "\n"
   ]
  },
  {
   "cell_type": "code",
   "execution_count": 171,
   "metadata": {},
   "outputs": [],
   "source": [
    "daily_tracker_early = pd.DataFrame(\n",
    "    np.random.randn(10,2),\n",
    "    index=pd.date_range('2018-01-05', periods=10),\n",
    "    columns=[\"Coinbase\", \"Bitstamp\"])\n"
   ]
  },
  {
   "cell_type": "code",
   "execution_count": 172,
   "metadata": {},
   "outputs": [
    {
     "data": {
      "text/html": [
       "<div>\n",
       "<style scoped>\n",
       "    .dataframe tbody tr th:only-of-type {\n",
       "        vertical-align: middle;\n",
       "    }\n",
       "\n",
       "    .dataframe tbody tr th {\n",
       "        vertical-align: top;\n",
       "    }\n",
       "\n",
       "    .dataframe thead th {\n",
       "        text-align: right;\n",
       "    }\n",
       "</style>\n",
       "<table border=\"1\" class=\"dataframe\">\n",
       "  <thead>\n",
       "    <tr style=\"text-align: right;\">\n",
       "      <th></th>\n",
       "      <th>Coinbase</th>\n",
       "      <th>Bitstamp</th>\n",
       "    </tr>\n",
       "  </thead>\n",
       "  <tbody>\n",
       "    <tr>\n",
       "      <th>count</th>\n",
       "      <td>10.000000</td>\n",
       "      <td>10.000000</td>\n",
       "    </tr>\n",
       "    <tr>\n",
       "      <th>mean</th>\n",
       "      <td>0.553408</td>\n",
       "      <td>0.317055</td>\n",
       "    </tr>\n",
       "    <tr>\n",
       "      <th>std</th>\n",
       "      <td>0.782170</td>\n",
       "      <td>0.965678</td>\n",
       "    </tr>\n",
       "    <tr>\n",
       "      <th>min</th>\n",
       "      <td>-0.530847</td>\n",
       "      <td>-1.019583</td>\n",
       "    </tr>\n",
       "    <tr>\n",
       "      <th>25%</th>\n",
       "      <td>0.176033</td>\n",
       "      <td>-0.318777</td>\n",
       "    </tr>\n",
       "    <tr>\n",
       "      <th>50%</th>\n",
       "      <td>0.253211</td>\n",
       "      <td>0.134255</td>\n",
       "    </tr>\n",
       "    <tr>\n",
       "      <th>75%</th>\n",
       "      <td>1.286603</td>\n",
       "      <td>1.008655</td>\n",
       "    </tr>\n",
       "    <tr>\n",
       "      <th>max</th>\n",
       "      <td>1.701660</td>\n",
       "      <td>2.149187</td>\n",
       "    </tr>\n",
       "  </tbody>\n",
       "</table>\n",
       "</div>"
      ],
      "text/plain": [
       "        Coinbase   Bitstamp\n",
       "count  10.000000  10.000000\n",
       "mean    0.553408   0.317055\n",
       "std     0.782170   0.965678\n",
       "min    -0.530847  -1.019583\n",
       "25%     0.176033  -0.318777\n",
       "50%     0.253211   0.134255\n",
       "75%     1.286603   1.008655\n",
       "max     1.701660   2.149187"
      ]
     },
     "execution_count": 172,
     "metadata": {},
     "output_type": "execute_result"
    }
   ],
   "source": [
    "daily_tracker_early.describe()\n"
   ]
  },
  {
   "cell_type": "code",
   "execution_count": 175,
   "metadata": {},
   "outputs": [
    {
     "data": {
      "text/plain": [
       "<AxesSubplot:title={'center':'January 5th 2018'}>"
      ]
     },
     "execution_count": 175,
     "metadata": {},
     "output_type": "execute_result"
    },
    {
     "data": {
      "image/png": "[encoded data removed]",
      "text/plain": [
       "<Figure size 432x288 with 1 Axes>"
      ]
     },
     "metadata": {
      "needs_background": "light"
     },
     "output_type": "display_data"
    }
   ],
   "source": [
    "daily_tracker_early.plot(kind='box', title='January 5th 2018')\n"
   ]
  },
  {
   "cell_type": "code",
   "execution_count": 174,
   "metadata": {},
   "outputs": [],
   "source": [
    "daily_tracker_middle = pd.DataFrame(\n",
    "    np.random.randn(10,2),\n",
    "    index=pd.date_range('2018-02-02', periods=10),\n",
    "    columns=[\"Coinbase\", \"Bitstamp\"])\n",
    "\n"
   ]
  },
  {
   "cell_type": "code",
   "execution_count": 176,
   "metadata": {},
   "outputs": [
    {
     "data": {
      "text/html": [
       "<div>\n",
       "<style scoped>\n",
       "    .dataframe tbody tr th:only-of-type {\n",
       "        vertical-align: middle;\n",
       "    }\n",
       "\n",
       "    .dataframe tbody tr th {\n",
       "        vertical-align: top;\n",
       "    }\n",
       "\n",
       "    .dataframe thead th {\n",
       "        text-align: right;\n",
       "    }\n",
       "</style>\n",
       "<table border=\"1\" class=\"dataframe\">\n",
       "  <thead>\n",
       "    <tr style=\"text-align: right;\">\n",
       "      <th></th>\n",
       "      <th>Coinbase</th>\n",
       "      <th>Bitstamp</th>\n",
       "    </tr>\n",
       "  </thead>\n",
       "  <tbody>\n",
       "    <tr>\n",
       "      <th>count</th>\n",
       "      <td>10.000000</td>\n",
       "      <td>10.000000</td>\n",
       "    </tr>\n",
       "    <tr>\n",
       "      <th>mean</th>\n",
       "      <td>-0.089665</td>\n",
       "      <td>-0.077706</td>\n",
       "    </tr>\n",
       "    <tr>\n",
       "      <th>std</th>\n",
       "      <td>1.029877</td>\n",
       "      <td>0.757876</td>\n",
       "    </tr>\n",
       "    <tr>\n",
       "      <th>min</th>\n",
       "      <td>-1.560739</td>\n",
       "      <td>-1.178630</td>\n",
       "    </tr>\n",
       "    <tr>\n",
       "      <th>25%</th>\n",
       "      <td>-0.648622</td>\n",
       "      <td>-0.712487</td>\n",
       "    </tr>\n",
       "    <tr>\n",
       "      <th>50%</th>\n",
       "      <td>-0.225054</td>\n",
       "      <td>0.013013</td>\n",
       "    </tr>\n",
       "    <tr>\n",
       "      <th>75%</th>\n",
       "      <td>0.412117</td>\n",
       "      <td>0.500682</td>\n",
       "    </tr>\n",
       "    <tr>\n",
       "      <th>max</th>\n",
       "      <td>1.740789</td>\n",
       "      <td>1.120487</td>\n",
       "    </tr>\n",
       "  </tbody>\n",
       "</table>\n",
       "</div>"
      ],
      "text/plain": [
       "        Coinbase   Bitstamp\n",
       "count  10.000000  10.000000\n",
       "mean   -0.089665  -0.077706\n",
       "std     1.029877   0.757876\n",
       "min    -1.560739  -1.178630\n",
       "25%    -0.648622  -0.712487\n",
       "50%    -0.225054   0.013013\n",
       "75%     0.412117   0.500682\n",
       "max     1.740789   1.120487"
      ]
     },
     "execution_count": 176,
     "metadata": {},
     "output_type": "execute_result"
    }
   ],
   "source": [
    "daily_tracker_middle.describe()\n",
    "\n",
    "\n"
   ]
  },
  {
   "cell_type": "code",
   "execution_count": 177,
   "metadata": {},
   "outputs": [
    {
     "data": {
      "text/plain": [
       "<AxesSubplot:title={'center':'Febuary 2nd 2018'}>"
      ]
     },
     "execution_count": 177,
     "metadata": {},
     "output_type": "execute_result"
    },
    {
     "data": {
      "image/png": "[encoded data removed]",
      "text/plain": [
       "<Figure size 432x288 with 1 Axes>"
      ]
     },
     "metadata": {
      "needs_background": "light"
     },
     "output_type": "display_data"
    }
   ],
   "source": [
    "daily_tracker_middle.plot(kind='box', title='Febuary 2nd 2018')\n",
    "\n"
   ]
  },
  {
   "cell_type": "code",
   "execution_count": 178,
   "metadata": {},
   "outputs": [],
   "source": [
    "daily_tracker_late = pd.DataFrame(\n",
    "    np.random.randn(10,2),\n",
    "    index=pd.date_range('2018-03-05', periods=10),\n",
    "    columns=[\"Coinbase\", \"Bitstamp\"])\n"
   ]
  },
  {
   "cell_type": "code",
   "execution_count": 179,
   "metadata": {},
   "outputs": [
    {
     "data": {
      "text/html": [
       "<div>\n",
       "<style scoped>\n",
       "    .dataframe tbody tr th:only-of-type {\n",
       "        vertical-align: middle;\n",
       "    }\n",
       "\n",
       "    .dataframe tbody tr th {\n",
       "        vertical-align: top;\n",
       "    }\n",
       "\n",
       "    .dataframe thead th {\n",
       "        text-align: right;\n",
       "    }\n",
       "</style>\n",
       "<table border=\"1\" class=\"dataframe\">\n",
       "  <thead>\n",
       "    <tr style=\"text-align: right;\">\n",
       "      <th></th>\n",
       "      <th>Coinbase</th>\n",
       "      <th>Bitstamp</th>\n",
       "    </tr>\n",
       "  </thead>\n",
       "  <tbody>\n",
       "    <tr>\n",
       "      <th>count</th>\n",
       "      <td>10.000000</td>\n",
       "      <td>10.000000</td>\n",
       "    </tr>\n",
       "    <tr>\n",
       "      <th>mean</th>\n",
       "      <td>0.214116</td>\n",
       "      <td>-0.154113</td>\n",
       "    </tr>\n",
       "    <tr>\n",
       "      <th>std</th>\n",
       "      <td>1.175023</td>\n",
       "      <td>1.165102</td>\n",
       "    </tr>\n",
       "    <tr>\n",
       "      <th>min</th>\n",
       "      <td>-1.912771</td>\n",
       "      <td>-2.434955</td>\n",
       "    </tr>\n",
       "    <tr>\n",
       "      <th>25%</th>\n",
       "      <td>-0.347589</td>\n",
       "      <td>-0.655765</td>\n",
       "    </tr>\n",
       "    <tr>\n",
       "      <th>50%</th>\n",
       "      <td>0.476307</td>\n",
       "      <td>0.150203</td>\n",
       "    </tr>\n",
       "    <tr>\n",
       "      <th>75%</th>\n",
       "      <td>1.144997</td>\n",
       "      <td>0.652973</td>\n",
       "    </tr>\n",
       "    <tr>\n",
       "      <th>max</th>\n",
       "      <td>1.554793</td>\n",
       "      <td>1.275967</td>\n",
       "    </tr>\n",
       "  </tbody>\n",
       "</table>\n",
       "</div>"
      ],
      "text/plain": [
       "        Coinbase   Bitstamp\n",
       "count  10.000000  10.000000\n",
       "mean    0.214116  -0.154113\n",
       "std     1.175023   1.165102\n",
       "min    -1.912771  -2.434955\n",
       "25%    -0.347589  -0.655765\n",
       "50%     0.476307   0.150203\n",
       "75%     1.144997   0.652973\n",
       "max     1.554793   1.275967"
      ]
     },
     "execution_count": 179,
     "metadata": {},
     "output_type": "execute_result"
    }
   ],
   "source": [
    "daily_tracker_late.describe()\n"
   ]
  },
  {
   "cell_type": "code",
   "execution_count": 180,
   "metadata": {},
   "outputs": [
    {
     "data": {
      "text/plain": [
       "<AxesSubplot:title={'center':'March 5th 2018'}>"
      ]
     },
     "execution_count": 180,
     "metadata": {},
     "output_type": "execute_result"
    },
    {
     "data": {
      "image/png": "[encoded data removed]",
      "text/plain": [
       "<Figure size 432x288 with 1 Axes>"
      ]
     },
     "metadata": {
      "needs_background": "light"
     },
     "output_type": "display_data"
    }
   ],
   "source": [
    "daily_tracker_late.plot(kind='box', title='March 5th 2018')\n",
    "\n"
   ]
  },
  {
   "cell_type": "code",
   "execution_count": 120,
   "metadata": {},
   "outputs": [
    {
     "data": {
      "text/plain": [
       "<AxesSubplot:title={'center':'January 5-2018'}, xlabel='Timestamp'>"
      ]
     },
     "execution_count": 120,
     "metadata": {},
     "output_type": "execute_result"
    },
    {
     "data": {
      "image/png": "[encoded data removed]",
      "text/plain": [
       "<Figure size 720x216 with 1 Axes>"
      ]
     },
     "metadata": {
      "needs_background": "light"
     },
     "output_type": "display_data"
    }
   ],
   "source": [
    "# Create an overlay plot that visualizes the two dataframes over a period of one day early in the dataset. \n",
    "# Be sure that the plots include the parameters `legend`, `figsize`, `title`, `color` and `label` \n",
    "coinbase['Close'].loc['2018-01-05'].plot(legend=True, figsize=(10,3), title=\"January 5-2018\", color=\"blue\", label=\"coinbase\")\n",
    "bitstamp['Close'].loc['2018-01-05'].plot(legend=True, figsize=(10,3), color=\"yellow\", label=\"bitstamp\") \n"
   ]
  },
  {
   "cell_type": "code",
   "execution_count": 142,
   "metadata": {
    "tags": []
   },
   "outputs": [
    {
     "data": {
      "text/plain": [
       "count    1440.000000\n",
       "mean       -0.650535\n",
       "std        44.027768\n",
       "min      -150.850000\n",
       "25%       -26.000000\n",
       "50%         0.055000\n",
       "75%        24.477500\n",
       "max       216.930000\n",
       "Name: Close, dtype: float64"
      ]
     },
     "execution_count": 142,
     "metadata": {},
     "output_type": "execute_result"
    }
   ],
   "source": [
    "# Using the early date that you have selected, calculate the arbitrage spread \n",
    "# by subtracting the bitstamp lower closing prices from the coinbase higher closing prices\n",
    "arbitrage_spread_early = bitstamp['Close'].loc['2018-01-05'] - coinbase['Close'].loc['2018-01-05']\n",
    "\n",
    "# Generate summary statistics for the early DataFrame\n",
    "\n",
    "arbitrage_spread_early.describe()\n",
    "\n"
   ]
  },
  {
   "cell_type": "code",
   "execution_count": 143,
   "metadata": {},
   "outputs": [
    {
     "data": {
      "text/plain": [
       "<AxesSubplot:title={'center':'January 5-2018'}>"
      ]
     },
     "execution_count": 143,
     "metadata": {},
     "output_type": "execute_result"
    },
    {
     "data": {
      "image/png": "[encoded data removed]",
      "text/plain": [
       "<Figure size 432x288 with 1 Axes>"
      ]
     },
     "metadata": {
      "needs_background": "light"
     },
     "output_type": "display_data"
    }
   ],
   "source": [
    "# Visualize the arbitrage spread from early in the dataset in a box plot\n",
    "arbitrage_spread_early_1 = pd.DataFrame(\n",
    "    np.random.randn(10,2),\n",
    "    index=pd.date_range('2018-01-05', periods=10),\n",
    "    columns=[\"Coinbase\", \"Bitstamp\"])\n",
    "arbitrage_spread_early_1.plot(kind='box', title='January 5-2018')\n"
   ]
  },
  {
   "cell_type": "code",
   "execution_count": null,
   "metadata": {},
   "outputs": [],
   "source": []
  },
  {
   "cell_type": "code",
   "execution_count": 144,
   "metadata": {},
   "outputs": [
    {
     "data": {
      "text/plain": [
       "<AxesSubplot:title={'center':'Febuary 2-2018'}, xlabel='Timestamp'>"
      ]
     },
     "execution_count": 144,
     "metadata": {},
     "output_type": "execute_result"
    },
    {
     "data": {
      "image/png": "[encoded data removed]",
      "text/plain": [
       "<Figure size 720x216 with 1 Axes>"
      ]
     },
     "metadata": {
      "needs_background": "light"
     },
     "output_type": "display_data"
    }
   ],
   "source": [
    "# Create an overlay plot that visualizes the two dataframes over a period of one day from the middle of the dataset. \n",
    "# Be sure that the plots include the parameters `legend`, `figsize`, `title`, `color` and `label` \n",
    "coinbase['Close'].loc['2018-02-02'].plot(legend=True, figsize=(10,3), title=\"Febuary 2-2018\", color=\"blue\", label=\"coinbase\")\n",
    "bitstamp['Close'].loc['2018-02-02'].plot(legend=True, figsize=(10,3), color=\"yellow\", label=\"bitstamp\") \n"
   ]
  },
  {
   "cell_type": "code",
   "execution_count": 145,
   "metadata": {},
   "outputs": [
    {
     "data": {
      "text/plain": [
       "count    1440.000000\n",
       "mean       17.735333\n",
       "std        29.471733\n",
       "min      -188.550000\n",
       "25%         2.362500\n",
       "50%        19.995000\n",
       "75%        34.587500\n",
       "max       140.010000\n",
       "Name: Close, dtype: float64"
      ]
     },
     "execution_count": 145,
     "metadata": {},
     "output_type": "execute_result"
    }
   ],
   "source": [
    "# Using the date in the middle that you have selected, calculate the arbitrage spread \n",
    "# by subtracting the bitstamp lower closing prices from the coinbase higher closing prices\n",
    "arbitrage_spread_middle = bitstamp['Close'].loc['2018-02-02'] - coinbase['Close'].loc['2018-02-02']\n",
    "\n",
    "# Generate summary statistics \n",
    "\n",
    "arbitrage_spread_middle.describe()\n",
    "\n"
   ]
  },
  {
   "cell_type": "code",
   "execution_count": 146,
   "metadata": {},
   "outputs": [
    {
     "data": {
      "text/plain": [
       "<AxesSubplot:title={'center':'Febuary 2-2018'}>"
      ]
     },
     "execution_count": 146,
     "metadata": {},
     "output_type": "execute_result"
    },
    {
     "data": {
      "image/png": "[encoded data removed]",
      "text/plain": [
       "<Figure size 432x288 with 1 Axes>"
      ]
     },
     "metadata": {
      "needs_background": "light"
     },
     "output_type": "display_data"
    }
   ],
   "source": [
    "# Visualize the arbitrage spread from the middle of the dataset in a box plot\n",
    "arbitrage_spread_middle_1 = pd.DataFrame(\n",
    "    np.random.randn(10,2),\n",
    "    index=pd.date_range('2018-02-02', periods=10),\n",
    "    columns=[\"Coinbase\", \"Bitstamp\"])\n",
    "arbitrage_spread_middle_1.plot(kind='box', title='Febuary 2-2018')\n"
   ]
  },
  {
   "cell_type": "code",
   "execution_count": 147,
   "metadata": {},
   "outputs": [
    {
     "data": {
      "text/plain": [
       "<AxesSubplot:title={'center':'March 5-2018'}, xlabel='Timestamp'>"
      ]
     },
     "execution_count": 147,
     "metadata": {},
     "output_type": "execute_result"
    },
    {
     "data": {
      "image/png": "[encoded data removed]",
      "text/plain": [
       "<Figure size 720x216 with 1 Axes>"
      ]
     },
     "metadata": {
      "needs_background": "light"
     },
     "output_type": "display_data"
    }
   ],
   "source": [
    "# Create an overlay plot that visualizes the two dataframes over a period of one day from late in the dataset. \n",
    "# Be sure that the plots include the parameters `legend`, `figsize`, `title`, `color` and `label` \n",
    "coinbase['Close'].loc['2018-03-05'].plot(legend=True, figsize=(10,3), title=\"March 5-2018\", color=\"blue\", label=\"coinbase\")\n",
    "bitstamp['Close'].loc['2018-03-05'].plot(legend=True, figsize=(10,3), color=\"yellow\", label=\"bitstamp\") \n"
   ]
  },
  {
   "cell_type": "code",
   "execution_count": 148,
   "metadata": {},
   "outputs": [
    {
     "data": {
      "text/plain": [
       "count    1437.000000\n",
       "mean       11.817683\n",
       "std        14.276780\n",
       "min       -33.180000\n",
       "25%         2.940000\n",
       "50%        11.500000\n",
       "75%        20.470000\n",
       "max        68.280000\n",
       "Name: Close, dtype: float64"
      ]
     },
     "execution_count": 148,
     "metadata": {},
     "output_type": "execute_result"
    }
   ],
   "source": [
    "# Using the date from the late that you have selected, calculate the arbitrage spread \n",
    "# by subtracting the bitstamp lower closing prices from the coinbase higher closing prices\n",
    "arbitrage_spread_late = bitstamp['Close'].loc['2018-03-05'] - coinbase['Close'].loc['2018-03-05']\n",
    "\n",
    "# Generate summary statistics for the late DataFrame\n",
    "\n",
    "arbitrage_spread_late.describe()\n"
   ]
  },
  {
   "cell_type": "code",
   "execution_count": 139,
   "metadata": {},
   "outputs": [
    {
     "data": {
      "text/plain": [
       "<AxesSubplot:title={'center':'March 5-2018'}>"
      ]
     },
     "execution_count": 139,
     "metadata": {},
     "output_type": "execute_result"
    },
    {
     "data": {
      "image/png": "[encoded data removed]",
      "text/plain": [
       "<Figure size 432x288 with 1 Axes>"
      ]
     },
     "metadata": {
      "needs_background": "light"
     },
     "output_type": "display_data"
    }
   ],
   "source": [
    "# Visualize the arbitrage spread from late in the dataset in a box plot\n",
    "arbitrage_spread_late_1 = pd.DataFrame(\n",
    "    np.random.randn(10,2),\n",
    "    index=pd.date_range('2018-03-05', periods=10),\n",
    "    columns=[\"Coinbase\", \"Bitstamp\"])\n",
    "arbitrage_spread_late_1.plot(kind='box', title='March 5-2018')\n"
   ]
  },
  {
   "cell_type": "markdown",
   "metadata": {},
   "source": [
    "### Step 4: Calculate the Arbitrage Profits\n",
    "\n",
    "Calculate the potential profits for each date that you selected in the previous section. Your goal is to determine whether arbitrage opportunities still exist in the Bitcoin market. Complete the following steps:\n",
    "\n",
    "1. For each of the three dates, measure the arbitrage spread between the two exchanges by subtracting the lower-priced exchange from the higher-priced one. Then use a conditional statement to generate the summary statistics for each arbitrage_spread DataFrame, where the spread is greater than zero.\n",
    "\n",
    "2. For each of the three dates, calculate the spread returns. To do so, divide the instances that have a positive arbitrage spread (that is, a spread greater than zero) by the price of Bitcoin from the exchange you’re buying on (that is, the lower-priced exchange). Review the resulting DataFrame.\n",
    "\n",
    "3. For each of the three dates, narrow down your trading opportunities even further. To do so, determine the number of times your trades with positive returns exceed the 1% minimum threshold that you need to cover your costs.\n",
    "\n",
    "4. Generate the summary statistics of your spread returns that are greater than 1%. How do the average returns compare among the three dates?\n",
    "\n",
    "5. For each of the three dates, calculate the potential profit, in dollars, per trade. To do so, multiply the spread returns that were greater than 1% by the cost of what was purchased. Make sure to drop any missing values from the resulting DataFrame.\n",
    "\n",
    "6. Generate the summary statistics, and plot the results for each of the three DataFrames.\n",
    "\n",
    "7. Calculate the potential arbitrage profits that you can make on each day. To do so, sum the elements in the profit_per_trade DataFrame.\n",
    "\n",
    "8. Using the `cumsum` function, plot the cumulative sum of each of the three DataFrames. Can you identify any patterns or trends in the profits across the three time periods?\n",
    "\n",
    "(NOTE: The starter code displays only one date. You'll want to do this analysis for two additional dates)."
   ]
  },
  {
   "cell_type": "markdown",
   "metadata": {},
   "source": [
    "#### 1. For each of the three dates, measure the arbitrage spread between the two exchanges by subtracting the lower-priced exchange from the higher-priced one. Then use a conditional statement to generate the summary statistics for each arbitrage_spread DataFrame, where the spread is greater than zero.\n",
    "\n",
    "*NOTE*: For illustration, only one of the three dates is shown in the starter code below."
   ]
  },
  {
   "cell_type": "code",
   "execution_count": 158,
   "metadata": {},
   "outputs": [
    {
     "data": {
      "text/plain": [
       "Timestamp\n",
       "2018-01-05 00:00:00     6.00\n",
       "2018-01-05 00:01:00    24.15\n",
       "2018-01-05 00:02:00     7.02\n",
       "2018-01-05 00:03:00    16.09\n",
       "2018-01-05 00:06:00    19.99\n",
       "                       ...  \n",
       "2018-01-05 23:55:00    42.16\n",
       "2018-01-05 23:56:00    52.20\n",
       "2018-01-05 23:57:00    33.62\n",
       "2018-01-05 23:58:00    32.85\n",
       "2018-01-05 23:59:00    40.24\n",
       "Name: Close, Length: 723, dtype: float64"
      ]
     },
     "execution_count": 158,
     "metadata": {},
     "output_type": "execute_result"
    }
   ],
   "source": [
    "# For the date early in the dataset, measure the arbitrage spread between the two exchanges\n",
    "# by subtracting the lower-priced exchange from the higher-priced one\n",
    "arbitrage_spread_early = bitstamp['Close'].loc['2018-01-05'] - coinbase['Close'].loc['2018-01-05']\n",
    "\n",
    "# Use a conditional statement to generate the summary statistics for each arbitrage_spread DataFrame\n",
    "arbitrage_spread_early[arbitrage_spread_early>0]\n"
   ]
  },
  {
   "cell_type": "markdown",
   "metadata": {},
   "source": [
    "#### 2. For each of the three dates, calculate the spread returns. To do so, divide the instances that have a positive arbitrage spread (that is, a spread greater than zero) by the price of Bitcoin from the exchange you’re buying on (that is, the lower-priced exchange). Review the resulting DataFrame."
   ]
  },
  {
   "cell_type": "code",
   "execution_count": 163,
   "metadata": {},
   "outputs": [
    {
     "data": {
      "text/plain": [
       "Timestamp\n",
       "2018-02-02 00:04:00     1.55\n",
       "2018-02-02 00:05:00    14.89\n",
       "2018-02-02 00:06:00    12.99\n",
       "2018-02-02 00:07:00     2.49\n",
       "2018-02-02 00:08:00     2.97\n",
       "                       ...  \n",
       "2018-02-02 23:55:00    27.25\n",
       "2018-02-02 23:56:00    36.53\n",
       "2018-02-02 23:57:00    24.75\n",
       "2018-02-02 23:58:00    39.34\n",
       "2018-02-02 23:59:00    20.09\n",
       "Name: Close, Length: 1114, dtype: float64"
      ]
     },
     "execution_count": 163,
     "metadata": {},
     "output_type": "execute_result"
    }
   ],
   "source": [
    "#middle date \n",
    "arbitrage_spread_middle = bitstamp['Close'].loc['2018-02-02'] - coinbase['Close'].loc['2018-02-02']\n",
    "\n",
    "arbitrage_spread_middle[arbitrage_spread_middle>0]"
   ]
  },
  {
   "cell_type": "code",
   "execution_count": 166,
   "metadata": {},
   "outputs": [
    {
     "data": {
      "text/plain": [
       "Timestamp\n",
       "2018-03-05 00:01:00     0.36\n",
       "2018-03-05 00:02:00     4.74\n",
       "2018-03-05 00:03:00     9.24\n",
       "2018-03-05 00:04:00    12.12\n",
       "2018-03-05 00:05:00    25.87\n",
       "                       ...  \n",
       "2018-03-05 23:55:00     2.29\n",
       "2018-03-05 23:56:00    15.69\n",
       "2018-03-05 23:57:00    10.47\n",
       "2018-03-05 23:58:00    10.89\n",
       "2018-03-05 23:59:00    20.88\n",
       "Name: Close, Length: 1155, dtype: float64"
      ]
     },
     "execution_count": 166,
     "metadata": {},
     "output_type": "execute_result"
    }
   ],
   "source": [
    "#Late date \n",
    "arbitrage_spread_late = bitstamp['Close'].loc['2018-03-05'] - coinbase['Close'].loc['2018-03-05']\n",
    "\n",
    "arbitrage_spread_late[arbitrage_spread_late>0]"
   ]
  },
  {
   "cell_type": "code",
   "execution_count": 160,
   "metadata": {},
   "outputs": [
    {
     "data": {
      "text/plain": [
       "count    7.230000e+02\n",
       "mean     2.002523e-03\n",
       "std      1.873713e-03\n",
       "min      5.952384e-07\n",
       "25%      7.504384e-04\n",
       "50%      1.500068e-03\n",
       "75%      2.564064e-03\n",
       "max      1.399548e-02\n",
       "Name: Close, dtype: float64"
      ]
     },
     "execution_count": 160,
     "metadata": {},
     "output_type": "execute_result"
    }
   ],
   "source": [
    "# For the date early in the dataset, calculate the spread returns by dividing the instances when the arbitrage spread is positive (> 0) \n",
    "# by the price of Bitcoin from the exchange you are buying on (the lower-priced exchange).\n",
    "spread_return_early= arbitrage_spread_early[arbitrage_spread_early>0]/coinbase['Close'].loc['2018-01-05']\n",
    "\n",
    "# Review the spread return DataFrame\n",
    "spread_return_early.describe()"
   ]
  },
  {
   "cell_type": "code",
   "execution_count": 167,
   "metadata": {},
   "outputs": [
    {
     "data": {
      "text/plain": [
       "count    1114.000000\n",
       "mean        0.003446\n",
       "std         0.002502\n",
       "min         0.000001\n",
       "25%         0.001841\n",
       "50%         0.003057\n",
       "75%         0.004547\n",
       "max         0.018250\n",
       "Name: Close, dtype: float64"
      ]
     },
     "execution_count": 167,
     "metadata": {},
     "output_type": "execute_result"
    }
   ],
   "source": [
    "#middle date \n",
    "spread_return_middle= arbitrage_spread_middle[arbitrage_spread_middle>0]/coinbase['Close'].loc['2018-02-02']\n",
    "\n",
    "spread_return_middle.describe()"
   ]
  },
  {
   "cell_type": "code",
   "execution_count": 169,
   "metadata": {},
   "outputs": [
    {
     "data": {
      "text/plain": [
       "count    1155.000000\n",
       "mean        0.001455\n",
       "std         0.000940\n",
       "min         0.000002\n",
       "25%         0.000772\n",
       "50%         0.001288\n",
       "75%         0.002023\n",
       "max         0.005929\n",
       "Name: Close, dtype: float64"
      ]
     },
     "execution_count": 169,
     "metadata": {},
     "output_type": "execute_result"
    }
   ],
   "source": [
    "#Late date \n",
    "spread_return_late= arbitrage_spread_late[arbitrage_spread_late>0]/coinbase['Close'].loc['2018-03-05']\n",
    "\n",
    "spread_return_late.describe()"
   ]
  },
  {
   "cell_type": "markdown",
   "metadata": {},
   "source": [
    "#### 3. For each of the three dates, narrow down your trading opportunities even further. To do so, determine the number of times your trades with positive returns exceed the 1% minimum threshold that you need to cover your costs."
   ]
  },
  {
   "cell_type": "code",
   "execution_count": 189,
   "metadata": {},
   "outputs": [
    {
     "data": {
      "text/plain": [
       "Timestamp\n",
       "2018-01-05 04:02:00    0.010525\n",
       "2018-01-05 04:03:00    0.010329\n",
       "2018-01-05 04:04:00    0.013995\n",
       "2018-01-05 04:05:00    0.012882\n",
       "2018-01-05 05:49:00    0.010020\n",
       "Name: Close, dtype: float64"
      ]
     },
     "execution_count": 189,
     "metadata": {},
     "output_type": "execute_result"
    }
   ],
   "source": [
    "# For the date early in the dataset, determine the number of times your trades with positive returns \n",
    "# exceed the 1% minimum threshold (.01) that you need to cover your costs\n",
    "profitable_trades_early = spread_return_early[spread_return_early > .01]\n",
    "\n",
    "# Review the first five profitable trades\n",
    "profitable_trades_early.head()\n"
   ]
  },
  {
   "cell_type": "code",
   "execution_count": 188,
   "metadata": {},
   "outputs": [
    {
     "data": {
      "text/plain": [
       "Timestamp\n",
       "2018-02-02 06:50:00    0.012374\n",
       "2018-02-02 07:17:00    0.010137\n",
       "2018-02-02 07:27:00    0.012033\n",
       "2018-02-02 07:28:00    0.011289\n",
       "2018-02-02 07:29:00    0.011974\n",
       "Name: Close, dtype: float64"
      ]
     },
     "execution_count": 188,
     "metadata": {},
     "output_type": "execute_result"
    }
   ],
   "source": [
    "#middle date \n",
    "profitable_trades_middle = spread_return_middle[spread_return_middle > .01]\n",
    "\n",
    "profitable_trades_middle.head()\n"
   ]
  },
  {
   "cell_type": "code",
   "execution_count": 200,
   "metadata": {},
   "outputs": [
    {
     "data": {
      "text/plain": [
       "Series([], Name: Close, dtype: float64)"
      ]
     },
     "execution_count": 200,
     "metadata": {},
     "output_type": "execute_result"
    }
   ],
   "source": [
    "#late date\n",
    "profitable_trades_late = spread_return_late[spread_return_late > .01]\n",
    "\n",
    "profitable_trades_late.head()\n"
   ]
  },
  {
   "cell_type": "markdown",
   "metadata": {},
   "source": [
    "#### 4. Generate the summary statistics of your spread returns that are greater than 1%. How do the average returns compare among the three dates?"
   ]
  },
  {
   "cell_type": "code",
   "execution_count": 191,
   "metadata": {},
   "outputs": [
    {
     "data": {
      "text/plain": [
       "count    5.000000\n",
       "mean     0.011550\n",
       "std      0.001777\n",
       "min      0.010020\n",
       "25%      0.010329\n",
       "50%      0.010525\n",
       "75%      0.012882\n",
       "max      0.013995\n",
       "Name: Close, dtype: float64"
      ]
     },
     "execution_count": 191,
     "metadata": {},
     "output_type": "execute_result"
    }
   ],
   "source": [
    "# For the date early in the dataset, generate the summary statistics for the profitable trades\n",
    "# or you trades where the spread returns are are greater than 1%\n",
    "profitable_trades_early.describe()\n"
   ]
  },
  {
   "cell_type": "code",
   "execution_count": 193,
   "metadata": {},
   "outputs": [
    {
     "data": {
      "text/plain": [
       "count    29.000000\n",
       "mean      0.013684\n",
       "std       0.002256\n",
       "min       0.010040\n",
       "25%       0.012033\n",
       "50%       0.013660\n",
       "75%       0.014564\n",
       "max       0.018250\n",
       "Name: Close, dtype: float64"
      ]
     },
     "execution_count": 193,
     "metadata": {},
     "output_type": "execute_result"
    }
   ],
   "source": [
    "#middle date\n",
    "\n",
    "profitable_trades_middle.describe()"
   ]
  },
  {
   "cell_type": "code",
   "execution_count": 205,
   "metadata": {},
   "outputs": [
    {
     "data": {
      "text/plain": [
       "count    0.0\n",
       "mean     NaN\n",
       "std      NaN\n",
       "min      NaN\n",
       "25%      NaN\n",
       "50%      NaN\n",
       "75%      NaN\n",
       "max      NaN\n",
       "Name: Close, dtype: float64"
      ]
     },
     "execution_count": 205,
     "metadata": {},
     "output_type": "execute_result"
    }
   ],
   "source": [
    "#late date \n",
    "profitable_trades_late = profitable_trades_late.dropna()\n",
    "\n",
    "profitable_trades_late.describe()"
   ]
  },
  {
   "cell_type": "markdown",
   "metadata": {},
   "source": [
    "#### 5. For each of the three dates, calculate the potential profit, in dollars, per trade. To do so, multiply the spread returns that were greater than 1% by the cost of what was purchased. Make sure to drop any missing values from the resulting DataFrame."
   ]
  },
  {
   "cell_type": "code",
   "execution_count": 226,
   "metadata": {},
   "outputs": [
    {
     "data": {
      "text/plain": [
       "count      5.000000\n",
       "mean     180.050000\n",
       "std       26.646364\n",
       "min      160.000000\n",
       "25%      160.320000\n",
       "50%      163.000000\n",
       "75%      200.000000\n",
       "max      216.930000\n",
       "Name: Close, dtype: float64"
      ]
     },
     "execution_count": 226,
     "metadata": {},
     "output_type": "execute_result"
    }
   ],
   "source": [
    "# For the date early in the dataset, calculate the potential profit per trade in dollars \n",
    "# Multiply the profitable trades by the cost of the Bitcoin that was purchased\n",
    "profit_early = profitable_trades_early * coinbase['Close'].loc['2018-01-05']\n",
    "\n",
    "# Drop any missing values from the profit DataFrame\n",
    "profit_per_trade_early = profit_early.dropna()\n",
    "\n",
    "# View the early profit DataFrame\n",
    "profit_per_trade_early.describe()\n",
    "\n"
   ]
  },
  {
   "cell_type": "code",
   "execution_count": 227,
   "metadata": {},
   "outputs": [
    {
     "data": {
      "text/plain": [
       "count     29.000000\n",
       "mean     106.635517\n",
       "std       16.201033\n",
       "min       79.120000\n",
       "25%       92.860000\n",
       "50%      103.010000\n",
       "75%      120.000000\n",
       "max      140.010000\n",
       "Name: Close, dtype: float64"
      ]
     },
     "execution_count": 227,
     "metadata": {},
     "output_type": "execute_result"
    }
   ],
   "source": [
    "#middle date \n",
    "profit_middle = profitable_trades_middle * coinbase['Close'].loc['2018-02-02']\n",
    "                            \n",
    "profit_per_trade_middle = profit_middle.dropna()\n",
    "                                                                \n",
    "profit_per_trade_middle.describe()                                                                \n",
    "                                                                "
   ]
  },
  {
   "cell_type": "code",
   "execution_count": 224,
   "metadata": {},
   "outputs": [
    {
     "data": {
      "text/plain": [
       "count    0.0\n",
       "mean     NaN\n",
       "std      NaN\n",
       "min      NaN\n",
       "25%      NaN\n",
       "50%      NaN\n",
       "75%      NaN\n",
       "max      NaN\n",
       "Name: Close, dtype: float64"
      ]
     },
     "execution_count": 224,
     "metadata": {},
     "output_type": "execute_result"
    }
   ],
   "source": [
    "#Late \n",
    "profit_late = profitable_trades_late * coinbase['Close'].loc['2018-03-05']\n",
    "                                                             \n",
    "profit_per_trade_late = profit_late.dropna()\n",
    "                                                             \n",
    "profit_per_trade_late.describe()                                                            "
   ]
  },
  {
   "cell_type": "code",
   "execution_count": null,
   "metadata": {},
   "outputs": [],
   "source": []
  },
  {
   "cell_type": "markdown",
   "metadata": {},
   "source": [
    "#### 6. Generate the summary statistics, and plot the results for each of the three DataFrames."
   ]
  },
  {
   "cell_type": "code",
   "execution_count": 228,
   "metadata": {},
   "outputs": [
    {
     "data": {
      "text/plain": [
       "count      5.000000\n",
       "mean     180.050000\n",
       "std       26.646364\n",
       "min      160.000000\n",
       "25%      160.320000\n",
       "50%      163.000000\n",
       "75%      200.000000\n",
       "max      216.930000\n",
       "Name: Close, dtype: float64"
      ]
     },
     "execution_count": 228,
     "metadata": {},
     "output_type": "execute_result"
    }
   ],
   "source": [
    "# Generate the summary statistics for the early profit per trade DataFrame\n",
    "profit_per_trade_early.describe()\n"
   ]
  },
  {
   "cell_type": "code",
   "execution_count": 234,
   "metadata": {},
   "outputs": [
    {
     "data": {
      "text/plain": [
       "<AxesSubplot:title={'center':'January 05 2018 Profit Per Trade'}, xlabel='Timestamp'>"
      ]
     },
     "execution_count": 234,
     "metadata": {},
     "output_type": "execute_result"
    },
    {
     "data": {
      "image/png": "[encoded data removed]",
      "text/plain": [
       "<Figure size 432x288 with 1 Axes>"
      ]
     },
     "metadata": {
      "needs_background": "light"
     },
     "output_type": "display_data"
    }
   ],
   "source": [
    "# Plot the results for the early profit per trade DataFrame\n",
    "profit_per_trade_early.plot(title='January 05 2018 Profit Per Trade')\n"
   ]
  },
  {
   "cell_type": "code",
   "execution_count": 230,
   "metadata": {},
   "outputs": [
    {
     "data": {
      "text/plain": [
       "count     29.000000\n",
       "mean     106.635517\n",
       "std       16.201033\n",
       "min       79.120000\n",
       "25%       92.860000\n",
       "50%      103.010000\n",
       "75%      120.000000\n",
       "max      140.010000\n",
       "Name: Close, dtype: float64"
      ]
     },
     "execution_count": 230,
     "metadata": {},
     "output_type": "execute_result"
    }
   ],
   "source": [
    "profit_per_trade_middle.describe()"
   ]
  },
  {
   "cell_type": "code",
   "execution_count": 235,
   "metadata": {},
   "outputs": [
    {
     "data": {
      "text/plain": [
       "<AxesSubplot:title={'center':'Febuary 02 2018 profit per trade'}, xlabel='Timestamp'>"
      ]
     },
     "execution_count": 235,
     "metadata": {},
     "output_type": "execute_result"
    },
    {
     "data": {
      "image/png": "[encoded data removed]",
      "text/plain": [
       "<Figure size 432x288 with 1 Axes>"
      ]
     },
     "metadata": {
      "needs_background": "light"
     },
     "output_type": "display_data"
    }
   ],
   "source": [
    "profit_per_trade_middle.plot(title='Febuary 02 2018 profit per trade')"
   ]
  },
  {
   "cell_type": "code",
   "execution_count": 236,
   "metadata": {},
   "outputs": [
    {
     "data": {
      "text/plain": [
       "count    0.0\n",
       "mean     NaN\n",
       "std      NaN\n",
       "min      NaN\n",
       "25%      NaN\n",
       "50%      NaN\n",
       "75%      NaN\n",
       "max      NaN\n",
       "Name: Close, dtype: float64"
      ]
     },
     "execution_count": 236,
     "metadata": {},
     "output_type": "execute_result"
    }
   ],
   "source": [
    "profit_per_trade_late.describe()\n"
   ]
  },
  {
   "cell_type": "code",
   "execution_count": 237,
   "metadata": {},
   "outputs": [
    {
     "data": {
      "text/plain": [
       "<AxesSubplot:title={'center':'March 05 2018 Profit per Trade'}, xlabel='Timestamp'>"
      ]
     },
     "execution_count": 237,
     "metadata": {},
     "output_type": "execute_result"
    },
    {
     "data": {
      "image/png": "[encoded data removed]",
      "text/plain": [
       "<Figure size 432x288 with 1 Axes>"
      ]
     },
     "metadata": {
      "needs_background": "light"
     },
     "output_type": "display_data"
    }
   ],
   "source": [
    "profit_per_trade_late.plot(title='March 05 2018 Profit per Trade')"
   ]
  },
  {
   "cell_type": "markdown",
   "metadata": {},
   "source": [
    "#### 7. Calculate the potential arbitrage profits that you can make on each day. To do so, sum the elements in the profit_per_trade DataFrame."
   ]
  },
  {
   "cell_type": "code",
   "execution_count": 239,
   "metadata": {},
   "outputs": [
    {
     "data": {
      "text/plain": [
       "900.25"
      ]
     },
     "execution_count": 239,
     "metadata": {},
     "output_type": "execute_result"
    }
   ],
   "source": [
    "# Calculate the sum of the potential profits for the early profit per trade DataFrame\n",
    "potential_profit_early = profit_per_trade_early.sum()\n",
    "potential_profit_early\n"
   ]
  },
  {
   "cell_type": "code",
   "execution_count": 240,
   "metadata": {},
   "outputs": [
    {
     "data": {
      "text/plain": [
       "3092.430000000001"
      ]
     },
     "execution_count": 240,
     "metadata": {},
     "output_type": "execute_result"
    }
   ],
   "source": [
    "#middle date \n",
    "potential_profit_middle = profit_per_trade_middle.sum()\n",
    "potential_profit_middle"
   ]
  },
  {
   "cell_type": "code",
   "execution_count": 241,
   "metadata": {},
   "outputs": [
    {
     "data": {
      "text/plain": [
       "0.0"
      ]
     },
     "execution_count": 241,
     "metadata": {},
     "output_type": "execute_result"
    }
   ],
   "source": [
    "#Late date\n",
    "potential_profit_late = profit_per_trade_late.sum()\n",
    "potential_profit_late"
   ]
  },
  {
   "cell_type": "markdown",
   "metadata": {},
   "source": [
    "#### 8. Using the `cumsum` function, plot the cumulative sum of each of the three DataFrames. Can you identify any patterns or trends in the profits across the three time periods?"
   ]
  },
  {
   "cell_type": "code",
   "execution_count": 244,
   "metadata": {},
   "outputs": [],
   "source": [
    "# Use the cumsum function to calculate the cumulative profits over time for the early profit per trade DataFrame\n",
    "cumulative_profit_early = profit_per_trade_early.cumsum()\n"
   ]
  },
  {
   "cell_type": "code",
   "execution_count": 245,
   "metadata": {},
   "outputs": [
    {
     "data": {
      "text/plain": [
       "<AxesSubplot:title={'center':'Cumulative Profit January 5th 2018'}, xlabel='Timestamp'>"
      ]
     },
     "execution_count": 245,
     "metadata": {},
     "output_type": "execute_result"
    },
    {
     "data": {
      "image/png": "[encoded data removed]",
      "text/plain": [
       "<Figure size 432x288 with 1 Axes>"
      ]
     },
     "metadata": {
      "needs_background": "light"
     },
     "output_type": "display_data"
    }
   ],
   "source": [
    "# Plot the cumulative sum of profits for the early profit per trade DataFrame\n",
    "cumulative_profit_early.plot(title='Cumulative Profit January 5th 2018')\n"
   ]
  },
  {
   "cell_type": "code",
   "execution_count": 246,
   "metadata": {},
   "outputs": [
    {
     "data": {
      "text/plain": [
       "<AxesSubplot:title={'center':'Cumulative Profit Febuary 2th 2018'}, xlabel='Timestamp'>"
      ]
     },
     "execution_count": 246,
     "metadata": {},
     "output_type": "execute_result"
    },
    {
     "data": {
      "image/png": "[encoded data removed]",
      "text/plain": [
       "<Figure size 432x288 with 1 Axes>"
      ]
     },
     "metadata": {
      "needs_background": "light"
     },
     "output_type": "display_data"
    }
   ],
   "source": [
    "#middle date \n",
    "cumulative_profit_middle = profit_per_trade_middle.cumsum()\n",
    "\n",
    "cumulative_profit_middle.plot(title='Cumulative Profit Febuary 2th 2018')"
   ]
  },
  {
   "cell_type": "code",
   "execution_count": 247,
   "metadata": {},
   "outputs": [
    {
     "data": {
      "text/plain": [
       "<AxesSubplot:title={'center':'Cumulative Profit March 5th 2018'}, xlabel='Timestamp'>"
      ]
     },
     "execution_count": 247,
     "metadata": {},
     "output_type": "execute_result"
    },
    {
     "data": {
      "image/png": "[encoded data removed]",
      "text/plain": [
       "<Figure size 432x288 with 1 Axes>"
      ]
     },
     "metadata": {
      "needs_background": "light"
     },
     "output_type": "display_data"
    }
   ],
   "source": [
    "#Late date\n",
    "\n",
    "cumulative_profit_late = profit_per_trade_late.cumsum()\n",
    "\n",
    "cumulative_profit_late.plot(title='Cumulative Profit March 5th 2018')"
   ]
  },
  {
   "cell_type": "code",
   "execution_count": null,
   "metadata": {},
   "outputs": [],
   "source": []
  },
  {
   "cell_type": "code",
   "execution_count": null,
   "metadata": {},
   "outputs": [],
   "source": []
  },
  {
   "cell_type": "markdown",
   "metadata": {},
   "source": [
    "**Question:** After reviewing the profit information across each date from the different time periods, can you identify any patterns or trends?\n",
    "    \n",
    "**Answer:** No I can not "
   ]
  }
 ],
 "metadata": {
  "kernelspec": {
   "display_name": "Python 3 (ipykernel)",
   "language": "python",
   "name": "python3"
  },
  "language_info": {
   "codemirror_mode": {
    "name": "ipython",
    "version": 3
   },
   "file_extension": ".py",
   "mimetype": "text/x-python",
   "name": "python",
   "nbconvert_exporter": "python",
   "pygments_lexer": "ipython3",
   "version": "3.9.12"
  }
 },
 "nbformat": 4,
 "nbformat_minor": 4
}
